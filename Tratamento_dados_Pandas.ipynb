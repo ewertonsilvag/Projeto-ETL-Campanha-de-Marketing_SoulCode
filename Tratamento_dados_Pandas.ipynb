{
  "nbformat": 4,
  "nbformat_minor": 0,
  "metadata": {
    "colab": {
      "name": "MiniProjetoPandas.ipynb",
      "provenance": [],
      "mount_file_id": "125_aL4IQsnASZXl1kgigly56RV_nj3JS",
      "authorship_tag": "ABX9TyOxDSLyEOJAmeWAf6am5eCV",
      "include_colab_link": true
    },
    "kernelspec": {
      "name": "python3",
      "display_name": "Python 3"
    },
    "language_info": {
      "name": "python"
    }
  },
  "cells": [
    {
      "cell_type": "markdown",
      "metadata": {
        "id": "view-in-github",
        "colab_type": "text"
      },
      "source": [
        "<a href=\"https://colab.research.google.com/github/ewertonsilvag/mini_projeto_final_SoulCode/blob/main/Tratamento_dados_Pandas.ipynb\" target=\"_parent\"><img src=\"https://colab.research.google.com/assets/colab-badge.svg\" alt=\"Open In Colab\"/></a>"
      ]
    },
    {
      "cell_type": "markdown",
      "metadata": {
        "id": "Ij1mo-hKo9vB"
      },
      "source": [
        "# ***Nível Pandas ***\n",
        "\n",
        "---\n",
        "\n"
      ]
    },
    {
      "cell_type": "markdown",
      "metadata": {
        "id": "1-4RyLeY22Ba"
      },
      "source": [
        "Importando a biblioeteca pandas com o apelido 'pd'"
      ]
    },
    {
      "cell_type": "code",
      "metadata": {
        "id": "LDxz_rGqo5Az"
      },
      "source": [
        "import pandas as pd"
      ],
      "execution_count": null,
      "outputs": []
    },
    {
      "cell_type": "markdown",
      "metadata": {
        "id": "SBc2hycM2jDP"
      },
      "source": [
        "Importando o Dataset do drive para o colab\n",
        "\n",
        "---\n",
        "\n"
      ]
    },
    {
      "cell_type": "code",
      "metadata": {
        "id": "ehEixz3VpVa4"
      },
      "source": [
        "df = pd.read_csv(\"/content/drive/MyDrive/SoulCode/MiniProjeto/marketing_campaign.csv - marketing_campaign.csv.csv\")"
      ],
      "execution_count": null,
      "outputs": []
    },
    {
      "cell_type": "markdown",
      "metadata": {
        "id": "-kwaLIBV2YbC"
      },
      "source": [
        "Verificando o DataFrame\n"
      ]
    },
    {
      "cell_type": "code",
      "metadata": {
        "colab": {
          "base_uri": "https://localhost:8080/",
          "height": 442
        },
        "id": "m3PXfU2Bu7OZ",
        "outputId": "5550ea4a-bc8e-450f-8802-7a4bcf2ef4b4"
      },
      "source": [
        "df"
      ],
      "execution_count": null,
      "outputs": [
        {
          "output_type": "execute_result",
          "data": {
            "text/html": [
              "<div>\n",
              "<style scoped>\n",
              "    .dataframe tbody tr th:only-of-type {\n",
              "        vertical-align: middle;\n",
              "    }\n",
              "\n",
              "    .dataframe tbody tr th {\n",
              "        vertical-align: top;\n",
              "    }\n",
              "\n",
              "    .dataframe thead th {\n",
              "        text-align: right;\n",
              "    }\n",
              "</style>\n",
              "<table border=\"1\" class=\"dataframe\">\n",
              "  <thead>\n",
              "    <tr style=\"text-align: right;\">\n",
              "      <th></th>\n",
              "      <th>ID</th>\n",
              "      <th>Year_Birth</th>\n",
              "      <th>Education</th>\n",
              "      <th>Marital_Status</th>\n",
              "      <th>Income</th>\n",
              "      <th>Kidhome</th>\n",
              "      <th>Teenhome</th>\n",
              "      <th>Dt_Customer</th>\n",
              "      <th>Recency</th>\n",
              "      <th>MntWines</th>\n",
              "      <th>MntFruits</th>\n",
              "      <th>MntMeatProducts</th>\n",
              "      <th>MntFishProducts</th>\n",
              "      <th>MntSweetProducts</th>\n",
              "      <th>MntGoldProds</th>\n",
              "      <th>NumDealsPurchases</th>\n",
              "      <th>NumWebPurchases</th>\n",
              "      <th>NumCatalogPurchases</th>\n",
              "      <th>NumStorePurchases</th>\n",
              "      <th>NumWebVisitsMonth</th>\n",
              "      <th>AcceptedCmp3</th>\n",
              "      <th>AcceptedCmp4</th>\n",
              "      <th>AcceptedCmp5</th>\n",
              "      <th>AcceptedCmp1</th>\n",
              "      <th>AcceptedCmp2</th>\n",
              "      <th>Complain</th>\n",
              "      <th>Z_CostContact</th>\n",
              "      <th>Z_Revenue</th>\n",
              "      <th>Response</th>\n",
              "    </tr>\n",
              "  </thead>\n",
              "  <tbody>\n",
              "    <tr>\n",
              "      <th>0</th>\n",
              "      <td>5524</td>\n",
              "      <td>1957</td>\n",
              "      <td>Graduation</td>\n",
              "      <td>Single</td>\n",
              "      <td>58138.0</td>\n",
              "      <td>0</td>\n",
              "      <td>0</td>\n",
              "      <td>04-09-2012</td>\n",
              "      <td>58</td>\n",
              "      <td>635</td>\n",
              "      <td>88</td>\n",
              "      <td>546</td>\n",
              "      <td>172</td>\n",
              "      <td>88</td>\n",
              "      <td>88</td>\n",
              "      <td>3</td>\n",
              "      <td>8</td>\n",
              "      <td>10</td>\n",
              "      <td>4</td>\n",
              "      <td>7</td>\n",
              "      <td>0</td>\n",
              "      <td>0</td>\n",
              "      <td>0</td>\n",
              "      <td>0</td>\n",
              "      <td>0</td>\n",
              "      <td>0</td>\n",
              "      <td>3</td>\n",
              "      <td>11</td>\n",
              "      <td>1</td>\n",
              "    </tr>\n",
              "    <tr>\n",
              "      <th>1</th>\n",
              "      <td>2174</td>\n",
              "      <td>1954</td>\n",
              "      <td>Graduation</td>\n",
              "      <td>Single</td>\n",
              "      <td>46344.0</td>\n",
              "      <td>1</td>\n",
              "      <td>1</td>\n",
              "      <td>08-03-2014</td>\n",
              "      <td>38</td>\n",
              "      <td>11</td>\n",
              "      <td>1</td>\n",
              "      <td>6</td>\n",
              "      <td>2</td>\n",
              "      <td>1</td>\n",
              "      <td>6</td>\n",
              "      <td>2</td>\n",
              "      <td>1</td>\n",
              "      <td>1</td>\n",
              "      <td>2</td>\n",
              "      <td>5</td>\n",
              "      <td>0</td>\n",
              "      <td>0</td>\n",
              "      <td>0</td>\n",
              "      <td>0</td>\n",
              "      <td>0</td>\n",
              "      <td>0</td>\n",
              "      <td>3</td>\n",
              "      <td>11</td>\n",
              "      <td>0</td>\n",
              "    </tr>\n",
              "    <tr>\n",
              "      <th>2</th>\n",
              "      <td>4141</td>\n",
              "      <td>1965</td>\n",
              "      <td>Graduation</td>\n",
              "      <td>Together</td>\n",
              "      <td>71613.0</td>\n",
              "      <td>0</td>\n",
              "      <td>0</td>\n",
              "      <td>21-08-2013</td>\n",
              "      <td>26</td>\n",
              "      <td>426</td>\n",
              "      <td>49</td>\n",
              "      <td>127</td>\n",
              "      <td>111</td>\n",
              "      <td>21</td>\n",
              "      <td>42</td>\n",
              "      <td>1</td>\n",
              "      <td>8</td>\n",
              "      <td>2</td>\n",
              "      <td>10</td>\n",
              "      <td>4</td>\n",
              "      <td>0</td>\n",
              "      <td>0</td>\n",
              "      <td>0</td>\n",
              "      <td>0</td>\n",
              "      <td>0</td>\n",
              "      <td>0</td>\n",
              "      <td>3</td>\n",
              "      <td>11</td>\n",
              "      <td>0</td>\n",
              "    </tr>\n",
              "    <tr>\n",
              "      <th>3</th>\n",
              "      <td>6182</td>\n",
              "      <td>1984</td>\n",
              "      <td>Graduation</td>\n",
              "      <td>Together</td>\n",
              "      <td>26646.0</td>\n",
              "      <td>1</td>\n",
              "      <td>0</td>\n",
              "      <td>10-02-2014</td>\n",
              "      <td>26</td>\n",
              "      <td>11</td>\n",
              "      <td>4</td>\n",
              "      <td>20</td>\n",
              "      <td>10</td>\n",
              "      <td>3</td>\n",
              "      <td>5</td>\n",
              "      <td>2</td>\n",
              "      <td>2</td>\n",
              "      <td>0</td>\n",
              "      <td>4</td>\n",
              "      <td>6</td>\n",
              "      <td>0</td>\n",
              "      <td>0</td>\n",
              "      <td>0</td>\n",
              "      <td>0</td>\n",
              "      <td>0</td>\n",
              "      <td>0</td>\n",
              "      <td>3</td>\n",
              "      <td>11</td>\n",
              "      <td>0</td>\n",
              "    </tr>\n",
              "    <tr>\n",
              "      <th>4</th>\n",
              "      <td>5324</td>\n",
              "      <td>1981</td>\n",
              "      <td>PhD</td>\n",
              "      <td>Married</td>\n",
              "      <td>58293.0</td>\n",
              "      <td>1</td>\n",
              "      <td>0</td>\n",
              "      <td>19-01-2014</td>\n",
              "      <td>94</td>\n",
              "      <td>173</td>\n",
              "      <td>43</td>\n",
              "      <td>118</td>\n",
              "      <td>46</td>\n",
              "      <td>27</td>\n",
              "      <td>15</td>\n",
              "      <td>5</td>\n",
              "      <td>5</td>\n",
              "      <td>3</td>\n",
              "      <td>6</td>\n",
              "      <td>5</td>\n",
              "      <td>0</td>\n",
              "      <td>0</td>\n",
              "      <td>0</td>\n",
              "      <td>0</td>\n",
              "      <td>0</td>\n",
              "      <td>0</td>\n",
              "      <td>3</td>\n",
              "      <td>11</td>\n",
              "      <td>0</td>\n",
              "    </tr>\n",
              "    <tr>\n",
              "      <th>...</th>\n",
              "      <td>...</td>\n",
              "      <td>...</td>\n",
              "      <td>...</td>\n",
              "      <td>...</td>\n",
              "      <td>...</td>\n",
              "      <td>...</td>\n",
              "      <td>...</td>\n",
              "      <td>...</td>\n",
              "      <td>...</td>\n",
              "      <td>...</td>\n",
              "      <td>...</td>\n",
              "      <td>...</td>\n",
              "      <td>...</td>\n",
              "      <td>...</td>\n",
              "      <td>...</td>\n",
              "      <td>...</td>\n",
              "      <td>...</td>\n",
              "      <td>...</td>\n",
              "      <td>...</td>\n",
              "      <td>...</td>\n",
              "      <td>...</td>\n",
              "      <td>...</td>\n",
              "      <td>...</td>\n",
              "      <td>...</td>\n",
              "      <td>...</td>\n",
              "      <td>...</td>\n",
              "      <td>...</td>\n",
              "      <td>...</td>\n",
              "      <td>...</td>\n",
              "    </tr>\n",
              "    <tr>\n",
              "      <th>2235</th>\n",
              "      <td>10870</td>\n",
              "      <td>1967</td>\n",
              "      <td>Graduation</td>\n",
              "      <td>Married</td>\n",
              "      <td>61223.0</td>\n",
              "      <td>0</td>\n",
              "      <td>1</td>\n",
              "      <td>13-06-2013</td>\n",
              "      <td>46</td>\n",
              "      <td>709</td>\n",
              "      <td>43</td>\n",
              "      <td>182</td>\n",
              "      <td>42</td>\n",
              "      <td>118</td>\n",
              "      <td>247</td>\n",
              "      <td>2</td>\n",
              "      <td>9</td>\n",
              "      <td>3</td>\n",
              "      <td>4</td>\n",
              "      <td>5</td>\n",
              "      <td>0</td>\n",
              "      <td>0</td>\n",
              "      <td>0</td>\n",
              "      <td>0</td>\n",
              "      <td>0</td>\n",
              "      <td>0</td>\n",
              "      <td>3</td>\n",
              "      <td>11</td>\n",
              "      <td>0</td>\n",
              "    </tr>\n",
              "    <tr>\n",
              "      <th>2236</th>\n",
              "      <td>4001</td>\n",
              "      <td>1946</td>\n",
              "      <td>PhD</td>\n",
              "      <td>Together</td>\n",
              "      <td>64014.0</td>\n",
              "      <td>2</td>\n",
              "      <td>1</td>\n",
              "      <td>10-06-2014</td>\n",
              "      <td>56</td>\n",
              "      <td>406</td>\n",
              "      <td>0</td>\n",
              "      <td>30</td>\n",
              "      <td>0</td>\n",
              "      <td>0</td>\n",
              "      <td>8</td>\n",
              "      <td>7</td>\n",
              "      <td>8</td>\n",
              "      <td>2</td>\n",
              "      <td>5</td>\n",
              "      <td>7</td>\n",
              "      <td>0</td>\n",
              "      <td>0</td>\n",
              "      <td>0</td>\n",
              "      <td>1</td>\n",
              "      <td>0</td>\n",
              "      <td>0</td>\n",
              "      <td>3</td>\n",
              "      <td>11</td>\n",
              "      <td>0</td>\n",
              "    </tr>\n",
              "    <tr>\n",
              "      <th>2237</th>\n",
              "      <td>7270</td>\n",
              "      <td>1981</td>\n",
              "      <td>Graduation</td>\n",
              "      <td>Divorced</td>\n",
              "      <td>56981.0</td>\n",
              "      <td>0</td>\n",
              "      <td>0</td>\n",
              "      <td>25-01-2014</td>\n",
              "      <td>91</td>\n",
              "      <td>908</td>\n",
              "      <td>48</td>\n",
              "      <td>217</td>\n",
              "      <td>32</td>\n",
              "      <td>12</td>\n",
              "      <td>24</td>\n",
              "      <td>1</td>\n",
              "      <td>2</td>\n",
              "      <td>3</td>\n",
              "      <td>13</td>\n",
              "      <td>6</td>\n",
              "      <td>0</td>\n",
              "      <td>1</td>\n",
              "      <td>0</td>\n",
              "      <td>0</td>\n",
              "      <td>0</td>\n",
              "      <td>0</td>\n",
              "      <td>3</td>\n",
              "      <td>11</td>\n",
              "      <td>0</td>\n",
              "    </tr>\n",
              "    <tr>\n",
              "      <th>2238</th>\n",
              "      <td>8235</td>\n",
              "      <td>1956</td>\n",
              "      <td>Master</td>\n",
              "      <td>Together</td>\n",
              "      <td>69245.0</td>\n",
              "      <td>0</td>\n",
              "      <td>1</td>\n",
              "      <td>24-01-2014</td>\n",
              "      <td>8</td>\n",
              "      <td>428</td>\n",
              "      <td>30</td>\n",
              "      <td>214</td>\n",
              "      <td>80</td>\n",
              "      <td>30</td>\n",
              "      <td>61</td>\n",
              "      <td>2</td>\n",
              "      <td>6</td>\n",
              "      <td>5</td>\n",
              "      <td>10</td>\n",
              "      <td>3</td>\n",
              "      <td>0</td>\n",
              "      <td>0</td>\n",
              "      <td>0</td>\n",
              "      <td>0</td>\n",
              "      <td>0</td>\n",
              "      <td>0</td>\n",
              "      <td>3</td>\n",
              "      <td>11</td>\n",
              "      <td>0</td>\n",
              "    </tr>\n",
              "    <tr>\n",
              "      <th>2239</th>\n",
              "      <td>9405</td>\n",
              "      <td>1954</td>\n",
              "      <td>PhD</td>\n",
              "      <td>Married</td>\n",
              "      <td>52869.0</td>\n",
              "      <td>1</td>\n",
              "      <td>1</td>\n",
              "      <td>15-10-2012</td>\n",
              "      <td>40</td>\n",
              "      <td>84</td>\n",
              "      <td>3</td>\n",
              "      <td>61</td>\n",
              "      <td>2</td>\n",
              "      <td>1</td>\n",
              "      <td>21</td>\n",
              "      <td>3</td>\n",
              "      <td>3</td>\n",
              "      <td>1</td>\n",
              "      <td>4</td>\n",
              "      <td>7</td>\n",
              "      <td>0</td>\n",
              "      <td>0</td>\n",
              "      <td>0</td>\n",
              "      <td>0</td>\n",
              "      <td>0</td>\n",
              "      <td>0</td>\n",
              "      <td>3</td>\n",
              "      <td>11</td>\n",
              "      <td>1</td>\n",
              "    </tr>\n",
              "  </tbody>\n",
              "</table>\n",
              "<p>2240 rows × 29 columns</p>\n",
              "</div>"
            ],
            "text/plain": [
              "         ID  Year_Birth   Education  ... Z_CostContact  Z_Revenue  Response\n",
              "0      5524        1957  Graduation  ...             3         11         1\n",
              "1      2174        1954  Graduation  ...             3         11         0\n",
              "2      4141        1965  Graduation  ...             3         11         0\n",
              "3      6182        1984  Graduation  ...             3         11         0\n",
              "4      5324        1981         PhD  ...             3         11         0\n",
              "...     ...         ...         ...  ...           ...        ...       ...\n",
              "2235  10870        1967  Graduation  ...             3         11         0\n",
              "2236   4001        1946         PhD  ...             3         11         0\n",
              "2237   7270        1981  Graduation  ...             3         11         0\n",
              "2238   8235        1956      Master  ...             3         11         0\n",
              "2239   9405        1954         PhD  ...             3         11         1\n",
              "\n",
              "[2240 rows x 29 columns]"
            ]
          },
          "metadata": {},
          "execution_count": 3
        }
      ]
    },
    {
      "cell_type": "markdown",
      "metadata": {
        "id": "3bZFvg0L2_Wq"
      },
      "source": [
        "Traduzindo as colunas para o português"
      ]
    },
    {
      "cell_type": "code",
      "metadata": {
        "id": "GYG6GVEm18mW"
      },
      "source": [
        "df.rename(columns={'ID': 'id', 'Year_Birth': 'ano_nascimento', 'Education': 'educacao',\n",
        "                   'Marital_Status': 'estado_civil', 'Income': 'renda', 'Kidhome': 'qtd_crianca',\n",
        "                   'Teenhome': 'qtd_adolescente', 'Dt_Customer': 'primeira_data_compra', 'Recency': 'dias_desde_ult_compras',\n",
        "                   'MntWines': 'qtd_vinhos', 'MntFruits': 'qtd_frutas', 'MntMeatProducts': 'qtd_carne',\n",
        "                   'MntFishProducts' : 'qtd_peixe', 'MntSweetProducts': 'guloseimas','MntGoldProds': 'qtd_produtos_gold',\n",
        "                   'NumDealsPurchases': 'qtd_ofertas_compra', 'NumWebPurchases': 'qtd_compras_online', 'NumCatalogPurchases': 'qtd_compras_catalogo',\n",
        "                   'NumStorePurchases': 'qtd_compras_na_loja', 'NumWebVisitsMonth': 'qtd_visitas_online_mes','AcceptedCmp3': 'oferta_aceita1',\n",
        "                   'AcceptedCmp4': 'oferta_aceita2','AcceptedCmp5': 'oferta_aceita3', 'AcceptedCmp1': 'oferta_aceita4',\n",
        "                   'AcceptedCmp2': 'oferta_aceita5', 'Complain': 'reclamacao', 'Z_CostContact': 'contato_de_custo',\n",
        "                   'Z_Revenue': 'receita', 'Response': 'resposta'},inplace=True)"
      ],
      "execution_count": null,
      "outputs": []
    },
    {
      "cell_type": "markdown",
      "metadata": {
        "id": "94FLDcjNRO0R"
      },
      "source": [
        "Verificando os tipos de dados das colunas"
      ]
    },
    {
      "cell_type": "code",
      "metadata": {
        "colab": {
          "base_uri": "https://localhost:8080/"
        },
        "id": "xAZP1QSLSUTK",
        "outputId": "e1702f79-d41c-49d4-bd03-84ad4c443988"
      },
      "source": [
        "df.info()"
      ],
      "execution_count": null,
      "outputs": [
        {
          "output_type": "stream",
          "name": "stdout",
          "text": [
            "<class 'pandas.core.frame.DataFrame'>\n",
            "RangeIndex: 2240 entries, 0 to 2239\n",
            "Data columns (total 29 columns):\n",
            " #   Column                  Non-Null Count  Dtype  \n",
            "---  ------                  --------------  -----  \n",
            " 0   id                      2240 non-null   int64  \n",
            " 1   ano_nascimento          2240 non-null   int64  \n",
            " 2   educacao                2240 non-null   object \n",
            " 3   estado_civil            2240 non-null   object \n",
            " 4   renda                   2216 non-null   float64\n",
            " 5   qtd_crianca             2240 non-null   int64  \n",
            " 6   qtd_adolescente         2240 non-null   int64  \n",
            " 7   primeira_data_compra    2240 non-null   object \n",
            " 8   dias_desde_ult_compras  2240 non-null   int64  \n",
            " 9   qtd_vinhos              2240 non-null   int64  \n",
            " 10  qtd_frutas              2240 non-null   int64  \n",
            " 11  qtd_carne               2240 non-null   int64  \n",
            " 12  qtd_peixe               2240 non-null   int64  \n",
            " 13  guloseimas              2240 non-null   int64  \n",
            " 14  qtd_produtos_gold       2240 non-null   int64  \n",
            " 15  qtd_ofertas_compra      2240 non-null   int64  \n",
            " 16  qtd_compras_online      2240 non-null   int64  \n",
            " 17  qtd_compras_catalogo    2240 non-null   int64  \n",
            " 18  qtd_compras_na_loja     2240 non-null   int64  \n",
            " 19  qtd_visitas_online_mes  2240 non-null   int64  \n",
            " 20  oferta_aceita1          2240 non-null   int64  \n",
            " 21  oferta_aceita2          2240 non-null   int64  \n",
            " 22  oferta_aceita3          2240 non-null   int64  \n",
            " 23  oferta_aceita4          2240 non-null   int64  \n",
            " 24  oferta_aceita5          2240 non-null   int64  \n",
            " 25  reclamacao              2240 non-null   int64  \n",
            " 26  contato_de_custo        2240 non-null   int64  \n",
            " 27  receita                 2240 non-null   int64  \n",
            " 28  resposta                2240 non-null   int64  \n",
            "dtypes: float64(1), int64(25), object(3)\n",
            "memory usage: 507.6+ KB\n"
          ]
        }
      ]
    },
    {
      "cell_type": "markdown",
      "metadata": {
        "id": "NafRH2U1Qthf"
      },
      "source": [
        "Transformando o tipo de coluna 'primeira_data_compra' de string para data"
      ]
    },
    {
      "cell_type": "code",
      "metadata": {
        "id": "hmsxzyWsPYjO"
      },
      "source": [
        "df['primeira_data_compra'] = df['primeira_data_compra'].astype('datetime64')"
      ],
      "execution_count": null,
      "outputs": []
    },
    {
      "cell_type": "markdown",
      "metadata": {
        "id": "267vuuvHQ_Tx"
      },
      "source": [
        "Verificando a alteração"
      ]
    },
    {
      "cell_type": "code",
      "metadata": {
        "colab": {
          "base_uri": "https://localhost:8080/"
        },
        "id": "wZRShrsdQo0X",
        "outputId": "b6bb5ca4-ee4c-4eb4-8378-385708cfeb24"
      },
      "source": [
        "df.info()"
      ],
      "execution_count": null,
      "outputs": [
        {
          "output_type": "stream",
          "name": "stdout",
          "text": [
            "<class 'pandas.core.frame.DataFrame'>\n",
            "RangeIndex: 2240 entries, 0 to 2239\n",
            "Data columns (total 29 columns):\n",
            " #   Column                  Non-Null Count  Dtype         \n",
            "---  ------                  --------------  -----         \n",
            " 0   id                      2240 non-null   int64         \n",
            " 1   ano_nascimento          2240 non-null   int64         \n",
            " 2   educacao                2240 non-null   object        \n",
            " 3   estado_civil            2240 non-null   object        \n",
            " 4   renda                   2216 non-null   float64       \n",
            " 5   qtd_crianca             2240 non-null   int64         \n",
            " 6   qtd_adolescente         2240 non-null   int64         \n",
            " 7   primeira_data_compra    2240 non-null   datetime64[ns]\n",
            " 8   dias_desde_ult_compras  2240 non-null   int64         \n",
            " 9   qtd_vinhos              2240 non-null   int64         \n",
            " 10  qtd_frutas              2240 non-null   int64         \n",
            " 11  qtd_carne               2240 non-null   int64         \n",
            " 12  qtd_peixe               2240 non-null   int64         \n",
            " 13  guloseimas              2240 non-null   int64         \n",
            " 14  qtd_produtos_gold       2240 non-null   int64         \n",
            " 15  qtd_ofertas_compra      2240 non-null   int64         \n",
            " 16  qtd_compras_online      2240 non-null   int64         \n",
            " 17  qtd_compras_catalogo    2240 non-null   int64         \n",
            " 18  qtd_compras_na_loja     2240 non-null   int64         \n",
            " 19  qtd_visitas_online_mes  2240 non-null   int64         \n",
            " 20  oferta_aceita1          2240 non-null   int64         \n",
            " 21  oferta_aceita2          2240 non-null   int64         \n",
            " 22  oferta_aceita3          2240 non-null   int64         \n",
            " 23  oferta_aceita4          2240 non-null   int64         \n",
            " 24  oferta_aceita5          2240 non-null   int64         \n",
            " 25  reclamacao              2240 non-null   int64         \n",
            " 26  contato_de_custo        2240 non-null   int64         \n",
            " 27  receita                 2240 non-null   int64         \n",
            " 28  resposta                2240 non-null   int64         \n",
            "dtypes: datetime64[ns](1), float64(1), int64(25), object(2)\n",
            "memory usage: 507.6+ KB\n"
          ]
        }
      ]
    },
    {
      "cell_type": "markdown",
      "metadata": {
        "id": "11pZ1pPXxZTM"
      },
      "source": [
        "Verificando se a coluna 'id' possui apenas valores únicos para transformá-lo no no meu rótulo"
      ]
    },
    {
      "cell_type": "code",
      "metadata": {
        "colab": {
          "base_uri": "https://localhost:8080/"
        },
        "id": "OaYi_MmNxOzO",
        "outputId": "37da58e8-6be1-4fdb-b8b8-43b092c974f3"
      },
      "source": [
        "df.id.is_unique"
      ],
      "execution_count": null,
      "outputs": [
        {
          "output_type": "execute_result",
          "data": {
            "text/plain": [
              "True"
            ]
          },
          "metadata": {},
          "execution_count": 9
        }
      ]
    },
    {
      "cell_type": "markdown",
      "metadata": {
        "id": "RGogsBPdxmdQ"
      },
      "source": [
        "Trocando o rótulo do Data Frama para 'id'"
      ]
    },
    {
      "cell_type": "code",
      "metadata": {
        "id": "QBctvT9nxla_"
      },
      "source": [
        "df.set_index(\"id\", inplace = True)"
      ],
      "execution_count": null,
      "outputs": []
    },
    {
      "cell_type": "markdown",
      "metadata": {
        "id": "W3KvKxxiUsTn"
      },
      "source": [
        "Mostrando os dados únicos na coluna educação"
      ]
    },
    {
      "cell_type": "code",
      "metadata": {
        "colab": {
          "base_uri": "https://localhost:8080/"
        },
        "id": "It3MYiAhOqzz",
        "outputId": "9a8db642-aeda-4c5e-df7f-c6503f5ceec9"
      },
      "source": [
        "df.educacao.unique()"
      ],
      "execution_count": null,
      "outputs": [
        {
          "output_type": "execute_result",
          "data": {
            "text/plain": [
              "array(['Graduation', 'PhD', 'Master', 'Basic', '2n Cycle'], dtype=object)"
            ]
          },
          "metadata": {},
          "execution_count": 11
        }
      ]
    },
    {
      "cell_type": "markdown",
      "metadata": {
        "id": "PEPPmIKDjEK3"
      },
      "source": [
        "Substituindo múltiplos valores por múltiplos valores na coluna educacao\n",
        "\n"
      ]
    },
    {
      "cell_type": "code",
      "metadata": {
        "id": "b_q1MW_6btf3"
      },
      "source": [
        "df['educacao'].replace(['Graduation','PhD', 'Master', 'Basic', '2n Cycle'],['graduacao', 'doutorado', 'mestre', 'ensino_fundamental', 'cursando_mestrado'], inplace=True)\n"
      ],
      "execution_count": null,
      "outputs": []
    },
    {
      "cell_type": "markdown",
      "metadata": {
        "id": "Vc5HmB2NjKWo"
      },
      "source": [
        "Verificando os dados unicos da coluna estado_civil"
      ]
    },
    {
      "cell_type": "code",
      "metadata": {
        "colab": {
          "base_uri": "https://localhost:8080/"
        },
        "id": "P4aqKvtZbwkf",
        "outputId": "a68bab24-ff98-430a-d177-e5681da21b63"
      },
      "source": [
        "df.estado_civil.unique()"
      ],
      "execution_count": null,
      "outputs": [
        {
          "output_type": "execute_result",
          "data": {
            "text/plain": [
              "array(['Single', 'Together', 'Married', 'Divorced', 'Widow', 'Alone',\n",
              "       'Absurd', 'YOLO'], dtype=object)"
            ]
          },
          "metadata": {},
          "execution_count": 13
        }
      ]
    },
    {
      "cell_type": "markdown",
      "metadata": {
        "id": "-5OOfZA5kHK5"
      },
      "source": [
        "Substituindo múltiplos valores por múltiplos valores na coluna estado_civil\n"
      ]
    },
    {
      "cell_type": "code",
      "metadata": {
        "id": "cmdgbzgzjk0l"
      },
      "source": [
        "df['estado_civil'].replace(['Single','Together', 'Married', 'Divorced', 'Widow'],['solteiro', 'uniao_estavel', 'casado(a)', 'divorciado(a)', 'viúvo(a)'], inplace=True)\n"
      ],
      "execution_count": null,
      "outputs": []
    },
    {
      "cell_type": "markdown",
      "metadata": {
        "id": "SOGqT1z1khQS"
      },
      "source": [
        "Substituindo vários valores com o mesmo valor na coluna estado_civil"
      ]
    },
    {
      "cell_type": "code",
      "metadata": {
        "id": "RqlqmadxjkoM"
      },
      "source": [
        "df.replace(['Alone', 'Absurd', 'YOLO'], pd.NA, inplace=True)"
      ],
      "execution_count": null,
      "outputs": []
    },
    {
      "cell_type": "markdown",
      "metadata": {
        "id": "_K2P8Uz1uw9C"
      },
      "source": [
        "Verificando a presença de outros dados nulos"
      ]
    },
    {
      "cell_type": "code",
      "metadata": {
        "colab": {
          "base_uri": "https://localhost:8080/"
        },
        "id": "iTUlk8KauEVZ",
        "outputId": "fd5e4114-1765-47ea-8be1-f218d1ea25ac"
      },
      "source": [
        "df.isnull().sum()"
      ],
      "execution_count": null,
      "outputs": [
        {
          "output_type": "execute_result",
          "data": {
            "text/plain": [
              "ano_nascimento             0\n",
              "educacao                   0\n",
              "estado_civil               7\n",
              "renda                     24\n",
              "qtd_crianca                0\n",
              "qtd_adolescente            0\n",
              "primeira_data_compra       0\n",
              "dias_desde_ult_compras     0\n",
              "qtd_vinhos                 0\n",
              "qtd_frutas                 0\n",
              "qtd_carne                  0\n",
              "qtd_peixe                  0\n",
              "guloseimas                 0\n",
              "qtd_produtos_gold          0\n",
              "qtd_ofertas_compra         0\n",
              "qtd_compras_online         0\n",
              "qtd_compras_catalogo       0\n",
              "qtd_compras_na_loja        0\n",
              "qtd_visitas_online_mes     0\n",
              "oferta_aceita1             0\n",
              "oferta_aceita2             0\n",
              "oferta_aceita3             0\n",
              "oferta_aceita4             0\n",
              "oferta_aceita5             0\n",
              "reclamacao                 0\n",
              "contato_de_custo           0\n",
              "receita                    0\n",
              "resposta                   0\n",
              "dtype: int64"
            ]
          },
          "metadata": {},
          "execution_count": 16
        }
      ]
    },
    {
      "cell_type": "markdown",
      "metadata": {
        "id": "xsBPD2pYmRZp"
      },
      "source": [
        "Verificando os dados unicos da coluna oferta_aceita1"
      ]
    },
    {
      "cell_type": "code",
      "metadata": {
        "colab": {
          "base_uri": "https://localhost:8080/"
        },
        "id": "07FNYl-Zjj9C",
        "outputId": "4c530304-10be-4b66-c48a-a2facb3a9349"
      },
      "source": [
        "df.oferta_aceita1.unique()"
      ],
      "execution_count": null,
      "outputs": [
        {
          "output_type": "execute_result",
          "data": {
            "text/plain": [
              "array([0, 1])"
            ]
          },
          "metadata": {},
          "execution_count": 17
        }
      ]
    },
    {
      "cell_type": "markdown",
      "metadata": {
        "id": "JdEgVEiImhiI"
      },
      "source": [
        "Substituindo múltiplos valores por múltiplos valores na coluna oferta_aceita1\n"
      ]
    },
    {
      "cell_type": "code",
      "metadata": {
        "id": "bDMeHvqNmbuT"
      },
      "source": [
        "df['oferta_aceita1'].replace([0,1],['nao', 'sim'], inplace=True)"
      ],
      "execution_count": null,
      "outputs": []
    },
    {
      "cell_type": "markdown",
      "metadata": {
        "id": "QO0WhTlmnM3P"
      },
      "source": [
        "Substituindo múltiplos valores por múltiplos valores na coluna oferta_aceita2\n"
      ]
    },
    {
      "cell_type": "code",
      "metadata": {
        "id": "a551ST-QnOuX"
      },
      "source": [
        "df['oferta_aceita2'].replace([0,1],['nao', 'sim'], inplace=True)"
      ],
      "execution_count": null,
      "outputs": []
    },
    {
      "cell_type": "markdown",
      "metadata": {
        "id": "60mRlPGBnPwZ"
      },
      "source": [
        "Substituindo múltiplos valores por múltiplos valores na coluna oferta_aceita3\n"
      ]
    },
    {
      "cell_type": "code",
      "metadata": {
        "id": "mgvlGsE7nROh"
      },
      "source": [
        "df['oferta_aceita3'].replace([0,1],['nao', 'sim'], inplace=True)"
      ],
      "execution_count": null,
      "outputs": []
    },
    {
      "cell_type": "markdown",
      "metadata": {
        "id": "4HtJCTLnnRyg"
      },
      "source": [
        "Substituindo múltiplos valores por múltiplos valores na coluna oferta_aceita4\n",
        "\n",
        "\n",
        "\n",
        "\n",
        "\n"
      ]
    },
    {
      "cell_type": "code",
      "metadata": {
        "id": "8NU6daFTnT4y"
      },
      "source": [
        "df['oferta_aceita4'].replace([0,1],['nao', 'sim'], inplace=True)"
      ],
      "execution_count": null,
      "outputs": []
    },
    {
      "cell_type": "markdown",
      "metadata": {
        "id": "EesESmOgnUff"
      },
      "source": [
        "Substituindo múltiplos valores por múltiplos valores na coluna oferta_aceita5\n"
      ]
    },
    {
      "cell_type": "code",
      "metadata": {
        "id": "4-JiPOo4nWHX"
      },
      "source": [
        "df['oferta_aceita5'].replace([0,1],['nao', 'sim'], inplace=True)"
      ],
      "execution_count": null,
      "outputs": []
    },
    {
      "cell_type": "markdown",
      "metadata": {
        "id": "Mm3-qYuS5oek"
      },
      "source": [
        "Substituindo os valores da coluna reclamação"
      ]
    },
    {
      "cell_type": "code",
      "metadata": {
        "id": "fWb25AlP5keZ"
      },
      "source": [
        "df['reclamacao'].replace([0,1],['nao', 'sim'], inplace=True)"
      ],
      "execution_count": null,
      "outputs": []
    },
    {
      "cell_type": "markdown",
      "metadata": {
        "id": "POynIfIWsZ7l"
      },
      "source": [
        "Criei uma lista das colunas que não achei relevante para poder apagá-las"
      ]
    },
    {
      "cell_type": "code",
      "metadata": {
        "id": "a8S2QIIBqdDc"
      },
      "source": [
        "colunas = ['contato_de_custo', 'receita', 'resposta']\n",
        "df.drop(colunas, axis=1, inplace=True)\n"
      ],
      "execution_count": null,
      "outputs": []
    },
    {
      "cell_type": "markdown",
      "metadata": {
        "id": "FSH6u5xL5YOh"
      },
      "source": [
        "Excluindo linhas onde a data de nascimento seja menor que 1914, considerando uma idade máxima de 100 anos"
      ]
    },
    {
      "cell_type": "code",
      "metadata": {
        "id": "wi228coV1ME9"
      },
      "source": [
        "df.drop(df[df.ano_nascimento < 1914].index, inplace =True)"
      ],
      "execution_count": null,
      "outputs": []
    },
    {
      "cell_type": "markdown",
      "metadata": {
        "id": "sP7KmGeauTVG"
      },
      "source": [
        "Verificando se todas as alterações foram salvas"
      ]
    },
    {
      "cell_type": "code",
      "metadata": {
        "colab": {
          "base_uri": "https://localhost:8080/",
          "height": 465
        },
        "id": "8wdvHJnLs0rP",
        "outputId": "4a446cd0-2164-43a1-e7f3-042ac133896a"
      },
      "source": [
        "df"
      ],
      "execution_count": null,
      "outputs": [
        {
          "output_type": "execute_result",
          "data": {
            "text/html": [
              "<div>\n",
              "<style scoped>\n",
              "    .dataframe tbody tr th:only-of-type {\n",
              "        vertical-align: middle;\n",
              "    }\n",
              "\n",
              "    .dataframe tbody tr th {\n",
              "        vertical-align: top;\n",
              "    }\n",
              "\n",
              "    .dataframe thead th {\n",
              "        text-align: right;\n",
              "    }\n",
              "</style>\n",
              "<table border=\"1\" class=\"dataframe\">\n",
              "  <thead>\n",
              "    <tr style=\"text-align: right;\">\n",
              "      <th></th>\n",
              "      <th>ano_nascimento</th>\n",
              "      <th>educacao</th>\n",
              "      <th>estado_civil</th>\n",
              "      <th>renda</th>\n",
              "      <th>qtd_crianca</th>\n",
              "      <th>qtd_adolescente</th>\n",
              "      <th>primeira_data_compra</th>\n",
              "      <th>dias_desde_ult_compras</th>\n",
              "      <th>qtd_vinhos</th>\n",
              "      <th>qtd_frutas</th>\n",
              "      <th>qtd_carne</th>\n",
              "      <th>qtd_peixe</th>\n",
              "      <th>guloseimas</th>\n",
              "      <th>qtd_produtos_gold</th>\n",
              "      <th>qtd_ofertas_compra</th>\n",
              "      <th>qtd_compras_online</th>\n",
              "      <th>qtd_compras_catalogo</th>\n",
              "      <th>qtd_compras_na_loja</th>\n",
              "      <th>qtd_visitas_online_mes</th>\n",
              "      <th>oferta_aceita1</th>\n",
              "      <th>oferta_aceita2</th>\n",
              "      <th>oferta_aceita3</th>\n",
              "      <th>oferta_aceita4</th>\n",
              "      <th>oferta_aceita5</th>\n",
              "      <th>reclamacao</th>\n",
              "    </tr>\n",
              "    <tr>\n",
              "      <th>id</th>\n",
              "      <th></th>\n",
              "      <th></th>\n",
              "      <th></th>\n",
              "      <th></th>\n",
              "      <th></th>\n",
              "      <th></th>\n",
              "      <th></th>\n",
              "      <th></th>\n",
              "      <th></th>\n",
              "      <th></th>\n",
              "      <th></th>\n",
              "      <th></th>\n",
              "      <th></th>\n",
              "      <th></th>\n",
              "      <th></th>\n",
              "      <th></th>\n",
              "      <th></th>\n",
              "      <th></th>\n",
              "      <th></th>\n",
              "      <th></th>\n",
              "      <th></th>\n",
              "      <th></th>\n",
              "      <th></th>\n",
              "      <th></th>\n",
              "      <th></th>\n",
              "    </tr>\n",
              "  </thead>\n",
              "  <tbody>\n",
              "    <tr>\n",
              "      <th>5524</th>\n",
              "      <td>1957</td>\n",
              "      <td>graduacao</td>\n",
              "      <td>solteiro</td>\n",
              "      <td>58138.0</td>\n",
              "      <td>0</td>\n",
              "      <td>0</td>\n",
              "      <td>2012-04-09</td>\n",
              "      <td>58</td>\n",
              "      <td>635</td>\n",
              "      <td>88</td>\n",
              "      <td>546</td>\n",
              "      <td>172</td>\n",
              "      <td>88</td>\n",
              "      <td>88</td>\n",
              "      <td>3</td>\n",
              "      <td>8</td>\n",
              "      <td>10</td>\n",
              "      <td>4</td>\n",
              "      <td>7</td>\n",
              "      <td>nao</td>\n",
              "      <td>nao</td>\n",
              "      <td>nao</td>\n",
              "      <td>nao</td>\n",
              "      <td>nao</td>\n",
              "      <td>nao</td>\n",
              "    </tr>\n",
              "    <tr>\n",
              "      <th>2174</th>\n",
              "      <td>1954</td>\n",
              "      <td>graduacao</td>\n",
              "      <td>solteiro</td>\n",
              "      <td>46344.0</td>\n",
              "      <td>1</td>\n",
              "      <td>1</td>\n",
              "      <td>2014-08-03</td>\n",
              "      <td>38</td>\n",
              "      <td>11</td>\n",
              "      <td>1</td>\n",
              "      <td>6</td>\n",
              "      <td>2</td>\n",
              "      <td>1</td>\n",
              "      <td>6</td>\n",
              "      <td>2</td>\n",
              "      <td>1</td>\n",
              "      <td>1</td>\n",
              "      <td>2</td>\n",
              "      <td>5</td>\n",
              "      <td>nao</td>\n",
              "      <td>nao</td>\n",
              "      <td>nao</td>\n",
              "      <td>nao</td>\n",
              "      <td>nao</td>\n",
              "      <td>nao</td>\n",
              "    </tr>\n",
              "    <tr>\n",
              "      <th>4141</th>\n",
              "      <td>1965</td>\n",
              "      <td>graduacao</td>\n",
              "      <td>uniao_estavel</td>\n",
              "      <td>71613.0</td>\n",
              "      <td>0</td>\n",
              "      <td>0</td>\n",
              "      <td>2013-08-21</td>\n",
              "      <td>26</td>\n",
              "      <td>426</td>\n",
              "      <td>49</td>\n",
              "      <td>127</td>\n",
              "      <td>111</td>\n",
              "      <td>21</td>\n",
              "      <td>42</td>\n",
              "      <td>1</td>\n",
              "      <td>8</td>\n",
              "      <td>2</td>\n",
              "      <td>10</td>\n",
              "      <td>4</td>\n",
              "      <td>nao</td>\n",
              "      <td>nao</td>\n",
              "      <td>nao</td>\n",
              "      <td>nao</td>\n",
              "      <td>nao</td>\n",
              "      <td>nao</td>\n",
              "    </tr>\n",
              "    <tr>\n",
              "      <th>6182</th>\n",
              "      <td>1984</td>\n",
              "      <td>graduacao</td>\n",
              "      <td>uniao_estavel</td>\n",
              "      <td>26646.0</td>\n",
              "      <td>1</td>\n",
              "      <td>0</td>\n",
              "      <td>2014-10-02</td>\n",
              "      <td>26</td>\n",
              "      <td>11</td>\n",
              "      <td>4</td>\n",
              "      <td>20</td>\n",
              "      <td>10</td>\n",
              "      <td>3</td>\n",
              "      <td>5</td>\n",
              "      <td>2</td>\n",
              "      <td>2</td>\n",
              "      <td>0</td>\n",
              "      <td>4</td>\n",
              "      <td>6</td>\n",
              "      <td>nao</td>\n",
              "      <td>nao</td>\n",
              "      <td>nao</td>\n",
              "      <td>nao</td>\n",
              "      <td>nao</td>\n",
              "      <td>nao</td>\n",
              "    </tr>\n",
              "    <tr>\n",
              "      <th>5324</th>\n",
              "      <td>1981</td>\n",
              "      <td>doutorado</td>\n",
              "      <td>casado(a)</td>\n",
              "      <td>58293.0</td>\n",
              "      <td>1</td>\n",
              "      <td>0</td>\n",
              "      <td>2014-01-19</td>\n",
              "      <td>94</td>\n",
              "      <td>173</td>\n",
              "      <td>43</td>\n",
              "      <td>118</td>\n",
              "      <td>46</td>\n",
              "      <td>27</td>\n",
              "      <td>15</td>\n",
              "      <td>5</td>\n",
              "      <td>5</td>\n",
              "      <td>3</td>\n",
              "      <td>6</td>\n",
              "      <td>5</td>\n",
              "      <td>nao</td>\n",
              "      <td>nao</td>\n",
              "      <td>nao</td>\n",
              "      <td>nao</td>\n",
              "      <td>nao</td>\n",
              "      <td>nao</td>\n",
              "    </tr>\n",
              "    <tr>\n",
              "      <th>...</th>\n",
              "      <td>...</td>\n",
              "      <td>...</td>\n",
              "      <td>...</td>\n",
              "      <td>...</td>\n",
              "      <td>...</td>\n",
              "      <td>...</td>\n",
              "      <td>...</td>\n",
              "      <td>...</td>\n",
              "      <td>...</td>\n",
              "      <td>...</td>\n",
              "      <td>...</td>\n",
              "      <td>...</td>\n",
              "      <td>...</td>\n",
              "      <td>...</td>\n",
              "      <td>...</td>\n",
              "      <td>...</td>\n",
              "      <td>...</td>\n",
              "      <td>...</td>\n",
              "      <td>...</td>\n",
              "      <td>...</td>\n",
              "      <td>...</td>\n",
              "      <td>...</td>\n",
              "      <td>...</td>\n",
              "      <td>...</td>\n",
              "      <td>...</td>\n",
              "    </tr>\n",
              "    <tr>\n",
              "      <th>10870</th>\n",
              "      <td>1967</td>\n",
              "      <td>graduacao</td>\n",
              "      <td>casado(a)</td>\n",
              "      <td>61223.0</td>\n",
              "      <td>0</td>\n",
              "      <td>1</td>\n",
              "      <td>2013-06-13</td>\n",
              "      <td>46</td>\n",
              "      <td>709</td>\n",
              "      <td>43</td>\n",
              "      <td>182</td>\n",
              "      <td>42</td>\n",
              "      <td>118</td>\n",
              "      <td>247</td>\n",
              "      <td>2</td>\n",
              "      <td>9</td>\n",
              "      <td>3</td>\n",
              "      <td>4</td>\n",
              "      <td>5</td>\n",
              "      <td>nao</td>\n",
              "      <td>nao</td>\n",
              "      <td>nao</td>\n",
              "      <td>nao</td>\n",
              "      <td>nao</td>\n",
              "      <td>nao</td>\n",
              "    </tr>\n",
              "    <tr>\n",
              "      <th>4001</th>\n",
              "      <td>1946</td>\n",
              "      <td>doutorado</td>\n",
              "      <td>uniao_estavel</td>\n",
              "      <td>64014.0</td>\n",
              "      <td>2</td>\n",
              "      <td>1</td>\n",
              "      <td>2014-10-06</td>\n",
              "      <td>56</td>\n",
              "      <td>406</td>\n",
              "      <td>0</td>\n",
              "      <td>30</td>\n",
              "      <td>0</td>\n",
              "      <td>0</td>\n",
              "      <td>8</td>\n",
              "      <td>7</td>\n",
              "      <td>8</td>\n",
              "      <td>2</td>\n",
              "      <td>5</td>\n",
              "      <td>7</td>\n",
              "      <td>nao</td>\n",
              "      <td>nao</td>\n",
              "      <td>nao</td>\n",
              "      <td>sim</td>\n",
              "      <td>nao</td>\n",
              "      <td>nao</td>\n",
              "    </tr>\n",
              "    <tr>\n",
              "      <th>7270</th>\n",
              "      <td>1981</td>\n",
              "      <td>graduacao</td>\n",
              "      <td>divorciado(a)</td>\n",
              "      <td>56981.0</td>\n",
              "      <td>0</td>\n",
              "      <td>0</td>\n",
              "      <td>2014-01-25</td>\n",
              "      <td>91</td>\n",
              "      <td>908</td>\n",
              "      <td>48</td>\n",
              "      <td>217</td>\n",
              "      <td>32</td>\n",
              "      <td>12</td>\n",
              "      <td>24</td>\n",
              "      <td>1</td>\n",
              "      <td>2</td>\n",
              "      <td>3</td>\n",
              "      <td>13</td>\n",
              "      <td>6</td>\n",
              "      <td>nao</td>\n",
              "      <td>sim</td>\n",
              "      <td>nao</td>\n",
              "      <td>nao</td>\n",
              "      <td>nao</td>\n",
              "      <td>nao</td>\n",
              "    </tr>\n",
              "    <tr>\n",
              "      <th>8235</th>\n",
              "      <td>1956</td>\n",
              "      <td>mestre</td>\n",
              "      <td>uniao_estavel</td>\n",
              "      <td>69245.0</td>\n",
              "      <td>0</td>\n",
              "      <td>1</td>\n",
              "      <td>2014-01-24</td>\n",
              "      <td>8</td>\n",
              "      <td>428</td>\n",
              "      <td>30</td>\n",
              "      <td>214</td>\n",
              "      <td>80</td>\n",
              "      <td>30</td>\n",
              "      <td>61</td>\n",
              "      <td>2</td>\n",
              "      <td>6</td>\n",
              "      <td>5</td>\n",
              "      <td>10</td>\n",
              "      <td>3</td>\n",
              "      <td>nao</td>\n",
              "      <td>nao</td>\n",
              "      <td>nao</td>\n",
              "      <td>nao</td>\n",
              "      <td>nao</td>\n",
              "      <td>nao</td>\n",
              "    </tr>\n",
              "    <tr>\n",
              "      <th>9405</th>\n",
              "      <td>1954</td>\n",
              "      <td>doutorado</td>\n",
              "      <td>casado(a)</td>\n",
              "      <td>52869.0</td>\n",
              "      <td>1</td>\n",
              "      <td>1</td>\n",
              "      <td>2012-10-15</td>\n",
              "      <td>40</td>\n",
              "      <td>84</td>\n",
              "      <td>3</td>\n",
              "      <td>61</td>\n",
              "      <td>2</td>\n",
              "      <td>1</td>\n",
              "      <td>21</td>\n",
              "      <td>3</td>\n",
              "      <td>3</td>\n",
              "      <td>1</td>\n",
              "      <td>4</td>\n",
              "      <td>7</td>\n",
              "      <td>nao</td>\n",
              "      <td>nao</td>\n",
              "      <td>nao</td>\n",
              "      <td>nao</td>\n",
              "      <td>nao</td>\n",
              "      <td>nao</td>\n",
              "    </tr>\n",
              "  </tbody>\n",
              "</table>\n",
              "<p>2237 rows × 25 columns</p>\n",
              "</div>"
            ],
            "text/plain": [
              "       ano_nascimento   educacao  ... oferta_aceita5  reclamacao\n",
              "id                                ...                           \n",
              "5524             1957  graduacao  ...            nao         nao\n",
              "2174             1954  graduacao  ...            nao         nao\n",
              "4141             1965  graduacao  ...            nao         nao\n",
              "6182             1984  graduacao  ...            nao         nao\n",
              "5324             1981  doutorado  ...            nao         nao\n",
              "...               ...        ...  ...            ...         ...\n",
              "10870            1967  graduacao  ...            nao         nao\n",
              "4001             1946  doutorado  ...            nao         nao\n",
              "7270             1981  graduacao  ...            nao         nao\n",
              "8235             1956     mestre  ...            nao         nao\n",
              "9405             1954  doutorado  ...            nao         nao\n",
              "\n",
              "[2237 rows x 25 columns]"
            ]
          },
          "metadata": {},
          "execution_count": 26
        }
      ]
    },
    {
      "cell_type": "code",
      "metadata": {
        "id": "H549t-24_nRk"
      },
      "source": [
        "df.to_csv('/content/drive/MyDrive/SoulCode/MiniProjeto/marketing_dataframe.csv', sep=',')"
      ],
      "execution_count": null,
      "outputs": []
    }
  ]
}