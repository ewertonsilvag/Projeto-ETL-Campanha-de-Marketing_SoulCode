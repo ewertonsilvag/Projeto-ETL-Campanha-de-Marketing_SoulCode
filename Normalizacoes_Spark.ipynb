{
  "nbformat": 4,
  "nbformat_minor": 0,
  "metadata": {
    "colab": {
      "name": "MiniProjetoSpark.ipynb",
      "provenance": [],
      "mount_file_id": "1VEkKDeSNpkf4wNp2rsFavdO2ZI3CI16t",
      "authorship_tag": "ABX9TyPCvJzlBPgFi1ltC5sj/wEg",
      "include_colab_link": true
    },
    "kernelspec": {
      "name": "python3",
      "display_name": "Python 3"
    },
    "language_info": {
      "name": "python"
    }
  },
  "cells": [
    {
      "cell_type": "markdown",
      "metadata": {
        "id": "view-in-github",
        "colab_type": "text"
      },
      "source": [
        "<a href=\"https://colab.research.google.com/github/ewertonsilvag/mini_projeto_final_SoulCode/blob/main/Normalizacoes_Spark.ipynb\" target=\"_parent\"><img src=\"https://colab.research.google.com/assets/colab-badge.svg\" alt=\"Open In Colab\"/></a>"
      ]
    },
    {
      "cell_type": "markdown",
      "metadata": {
        "id": "TR1jn_VAHMZz"
      },
      "source": [
        "Instalando o Pyspark"
      ]
    },
    {
      "cell_type": "code",
      "metadata": {
        "id": "4IhhGoBlCxgZ"
      },
      "source": [
        "pip install pyspark"
      ],
      "execution_count": null,
      "outputs": []
    },
    {
      "cell_type": "markdown",
      "metadata": {
        "id": "-NWskwweHKSF"
      },
      "source": [
        "Importando as bibliotecas"
      ]
    },
    {
      "cell_type": "code",
      "metadata": {
        "id": "tD4m5TZ4DAFq"
      },
      "source": [
        "from pyspark.sql import SparkSession\n",
        "import pyspark.sql.functions as F\n",
        "from pyspark.sql.types import StructType, StructField, StringType, IntegerType, DateType, FloatType, DoubleType\n",
        "from pyspark.sql.functions import *\n",
        "from pyspark.sql.window import Window\n"
      ],
      "execution_count": null,
      "outputs": []
    },
    {
      "cell_type": "markdown",
      "metadata": {
        "id": "7h3BoGVHG3zl"
      },
      "source": [
        "Configurando o SparkSession"
      ]
    },
    {
      "cell_type": "code",
      "metadata": {
        "id": "5Jh94L-eDCl3"
      },
      "source": [
        "spark = (SparkSession.builder\\\n",
        "        .master(\"local\")\\\n",
        "        .appName(\"dataframe_withcolumn\")\\\n",
        "        .config(\"spark.ui.port\", \"4050\")\\\n",
        "        .getOrCreate())\n",
        "spark"
      ],
      "execution_count": null,
      "outputs": []
    },
    {
      "cell_type": "markdown",
      "metadata": {
        "id": "9OwNWlXfGqLC"
      },
      "source": [
        "Montando o DataFrame com o StructType e chamando-o do Drive"
      ]
    },
    {
      "cell_type": "code",
      "metadata": {
        "id": "vE7BuKJoDGDC"
      },
      "source": [
        "schema = StructType([ \n",
        "      StructField(\"id\",IntegerType(),True),\n",
        "      StructField(\"ano_nascimento\",IntegerType(),True),\n",
        "      StructField(\"educacao\",StringType(),True),\n",
        "      StructField(\"estado_civil\",StringType(),True),\n",
        "      StructField(\"renda\",DoubleType(),True),\n",
        "      StructField(\"qtd_crianca\",IntegerType(),True),\n",
        "      StructField(\"qtd_adolescente\",IntegerType(),True),\n",
        "      StructField(\"primeira_data_compra\",DateType(),True),\n",
        "      StructField(\"dias_desde_ult_compras\",IntegerType(),True),\n",
        "      StructField(\"qtd_vinhos\",IntegerType(),True),\n",
        "      StructField(\"qtd_frutas\",IntegerType(),True),\n",
        "      StructField(\"qtd_carne\",IntegerType(),True),\n",
        "      StructField(\"qtd_peixe\",IntegerType(),True),\n",
        "      StructField(\"guloseimas\",IntegerType(),True),\n",
        "      StructField(\"qtd_produtos_gold\",IntegerType(),True),\n",
        "      StructField(\"qtd_ofertas_compra\",IntegerType(),True),\n",
        "      StructField(\"qtd_compras_online\",IntegerType(),True),\n",
        "      StructField(\"qtd_compras_catalogo\",IntegerType(),True),\n",
        "      StructField(\"qtd_compras_na_loja\",IntegerType(),True),\n",
        "      StructField(\"qtd_visitas_online_mes\",IntegerType(),True),\n",
        "      StructField(\"oferta_aceita1\",StringType(),True),\n",
        "      StructField(\"oferta_aceita2\",StringType(),True),\n",
        "      StructField(\"oferta_aceita3\",StringType(),True),\n",
        "      StructField(\"oferta_aceita4\",StringType(),True),\n",
        "      StructField(\"oferta_aceita5\",StringType(),True),\n",
        "      StructField(\"reclamacao\",StringType(),True)])\n",
        "\n",
        "local= (\"/content/drive/MyDrive/SoulCode/MiniProjeto/marketing_dataframe.csv\")\n",
        "\n",
        "df = spark.read.load(local, format=\"csv\", header=\"true\", sep=',', schema=schema)"
      ],
      "execution_count": null,
      "outputs": []
    },
    {
      "cell_type": "markdown",
      "metadata": {
        "id": "pi2k8WtIGn6x"
      },
      "source": [
        "Exibindo a tabela"
      ]
    },
    {
      "cell_type": "code",
      "metadata": {
        "id": "0nSuX1C-FjCC",
        "colab": {
          "base_uri": "https://localhost:8080/"
        },
        "outputId": "e91a5a94-75fc-44f8-de41-22a8ba8d60fb"
      },
      "source": [
        "df.show()"
      ],
      "execution_count": null,
      "outputs": [
        {
          "output_type": "stream",
          "name": "stdout",
          "text": [
            "+----+--------------+------------------+-------------+-------+-----------+---------------+--------------------+----------------------+----------+----------+---------+---------+----------+-----------------+------------------+------------------+--------------------+-------------------+----------------------+--------------+--------------+--------------+--------------+--------------+----------+\n",
            "|  id|ano_nascimento|          educacao| estado_civil|  renda|qtd_crianca|qtd_adolescente|primeira_data_compra|dias_desde_ult_compras|qtd_vinhos|qtd_frutas|qtd_carne|qtd_peixe|guloseimas|qtd_produtos_gold|qtd_ofertas_compra|qtd_compras_online|qtd_compras_catalogo|qtd_compras_na_loja|qtd_visitas_online_mes|oferta_aceita1|oferta_aceita2|oferta_aceita3|oferta_aceita4|oferta_aceita5|reclamacao|\n",
            "+----+--------------+------------------+-------------+-------+-----------+---------------+--------------------+----------------------+----------+----------+---------+---------+----------+-----------------+------------------+------------------+--------------------+-------------------+----------------------+--------------+--------------+--------------+--------------+--------------+----------+\n",
            "|5524|          1957|         graduacao|     solteiro|58138.0|          0|              0|          2012-04-09|                    58|       635|        88|      546|      172|        88|               88|                 3|                 8|                  10|                  4|                     7|           nao|           nao|           nao|           nao|           nao|       nao|\n",
            "|2174|          1954|         graduacao|     solteiro|46344.0|          1|              1|          2014-08-03|                    38|        11|         1|        6|        2|         1|                6|                 2|                 1|                   1|                  2|                     5|           nao|           nao|           nao|           nao|           nao|       nao|\n",
            "|4141|          1965|         graduacao|uniao_estavel|71613.0|          0|              0|          2013-08-21|                    26|       426|        49|      127|      111|        21|               42|                 1|                 8|                   2|                 10|                     4|           nao|           nao|           nao|           nao|           nao|       nao|\n",
            "|6182|          1984|         graduacao|uniao_estavel|26646.0|          1|              0|          2014-10-02|                    26|        11|         4|       20|       10|         3|                5|                 2|                 2|                   0|                  4|                     6|           nao|           nao|           nao|           nao|           nao|       nao|\n",
            "|5324|          1981|         doutorado|    casado(a)|58293.0|          1|              0|          2014-01-19|                    94|       173|        43|      118|       46|        27|               15|                 5|                 5|                   3|                  6|                     5|           nao|           nao|           nao|           nao|           nao|       nao|\n",
            "|7446|          1967|            mestre|uniao_estavel|62513.0|          0|              1|          2013-09-09|                    16|       520|        42|       98|        0|        42|               14|                 2|                 6|                   4|                 10|                     6|           nao|           nao|           nao|           nao|           nao|       nao|\n",
            "| 965|          1971|         graduacao|divorciado(a)|55635.0|          0|              1|          2012-11-13|                    34|       235|        65|      164|       50|        49|               27|                 4|                 7|                   3|                  7|                     6|           nao|           nao|           nao|           nao|           nao|       nao|\n",
            "|6177|          1985|         doutorado|    casado(a)|33454.0|          1|              0|          2013-08-05|                    32|        76|        10|       56|        3|         1|               23|                 2|                 4|                   0|                  4|                     8|           nao|           nao|           nao|           nao|           nao|       nao|\n",
            "|4855|          1974|         doutorado|uniao_estavel|30351.0|          1|              0|          2013-06-06|                    19|        14|         0|       24|        3|         3|                2|                 1|                 3|                   0|                  2|                     9|           nao|           nao|           nao|           nao|           nao|       nao|\n",
            "|5899|          1950|         doutorado|uniao_estavel| 5648.0|          1|              1|          2014-03-13|                    68|        28|         0|        6|        1|         1|               13|                 1|                 1|                   0|                  0|                    20|           sim|           nao|           nao|           nao|           nao|       nao|\n",
            "|1994|          1983|         graduacao|    casado(a)|   null|          1|              0|          2013-11-15|                    11|         5|         5|        6|        0|         2|                1|                 1|                 1|                   0|                  2|                     7|           nao|           nao|           nao|           nao|           nao|       nao|\n",
            "| 387|          1976|ensino_fundamental|    casado(a)| 7500.0|          0|              0|          2012-11-13|                    59|         6|        16|       11|       11|         1|               16|                 1|                 2|                   0|                  3|                     8|           nao|           nao|           nao|           nao|           nao|       nao|\n",
            "|2125|          1959|         graduacao|divorciado(a)|63033.0|          0|              0|          2013-11-15|                    82|       194|        61|      480|      225|       112|               30|                 1|                 3|                   4|                  8|                     2|           nao|           nao|           nao|           nao|           nao|       nao|\n",
            "|8180|          1952|            mestre|divorciado(a)|59354.0|          1|              1|          2013-11-15|                    53|       233|         2|       53|        3|         5|               14|                 3|                 6|                   1|                  5|                     6|           nao|           nao|           nao|           nao|           nao|       nao|\n",
            "|2569|          1987|         graduacao|    casado(a)|17323.0|          0|              0|          2012-10-10|                    38|         3|        14|       17|        6|         1|                5|                 1|                 1|                   0|                  3|                     8|           nao|           nao|           nao|           nao|           nao|       nao|\n",
            "|2114|          1946|         doutorado|     solteiro|82800.0|          0|              0|          2012-11-24|                    23|      1006|        22|      115|       59|        68|               45|                 1|                 7|                   6|                 12|                     3|           nao|           nao|           sim|           sim|           nao|       nao|\n",
            "|9736|          1980|         graduacao|    casado(a)|41850.0|          1|              1|          2012-12-24|                    51|        53|         5|       19|        2|        13|                4|                 3|                 3|                   0|                  3|                     8|           nao|           nao|           nao|           nao|           nao|       nao|\n",
            "|4939|          1946|         graduacao|uniao_estavel|37760.0|          0|              0|          2012-08-31|                    20|        84|         5|       38|      150|        12|               28|                 2|                 4|                   1|                  6|                     7|           nao|           nao|           nao|           nao|           nao|       nao|\n",
            "|6565|          1949|            mestre|    casado(a)|76995.0|          0|              1|          2013-03-28|                    91|      1012|        80|      498|        0|        16|              176|                 2|                11|                   4|                  9|                     5|           nao|           nao|           nao|           sim|           nao|       nao|\n",
            "|2278|          1985| cursando_mestrado|     solteiro|33812.0|          1|              0|          2012-03-11|                    86|         4|        17|       19|       30|        24|               39|                 2|                 2|                   1|                  3|                     6|           nao|           nao|           nao|           nao|           nao|       nao|\n",
            "+----+--------------+------------------+-------------+-------+-----------+---------------+--------------------+----------------------+----------+----------+---------+---------+----------+-----------------+------------------+------------------+--------------------+-------------------+----------------------+--------------+--------------+--------------+--------------+--------------+----------+\n",
            "only showing top 20 rows\n",
            "\n"
          ]
        }
      ]
    },
    {
      "cell_type": "markdown",
      "metadata": {
        "id": "PfBiGVn-GgHy"
      },
      "source": [
        "Modificando o nome de duas colunas"
      ]
    },
    {
      "cell_type": "code",
      "metadata": {
        "id": "QDkICf-HFFKo",
        "colab": {
          "base_uri": "https://localhost:8080/"
        },
        "outputId": "6e57837c-a1b6-43f5-cddd-8995fb721e58"
      },
      "source": [
        "df=df.withColumnRenamed(\"id\", \"identificacao\").withColumnRenamed(\"primeira_data_compra\", \"primeira_compra\")\n",
        "df.show()"
      ],
      "execution_count": null,
      "outputs": [
        {
          "output_type": "stream",
          "name": "stdout",
          "text": [
            "+-------------+--------------+------------------+-------------+-------+-----------+---------------+---------------+----------------------+----------+----------+---------+---------+----------+-----------------+------------------+------------------+--------------------+-------------------+----------------------+--------------+--------------+--------------+--------------+--------------+----------+\n",
            "|identificacao|ano_nascimento|          educacao| estado_civil|  renda|qtd_crianca|qtd_adolescente|primeira_compra|dias_desde_ult_compras|qtd_vinhos|qtd_frutas|qtd_carne|qtd_peixe|guloseimas|qtd_produtos_gold|qtd_ofertas_compra|qtd_compras_online|qtd_compras_catalogo|qtd_compras_na_loja|qtd_visitas_online_mes|oferta_aceita1|oferta_aceita2|oferta_aceita3|oferta_aceita4|oferta_aceita5|reclamacao|\n",
            "+-------------+--------------+------------------+-------------+-------+-----------+---------------+---------------+----------------------+----------+----------+---------+---------+----------+-----------------+------------------+------------------+--------------------+-------------------+----------------------+--------------+--------------+--------------+--------------+--------------+----------+\n",
            "|         5524|          1957|         graduacao|     solteiro|58138.0|          0|              0|     2012-04-09|                    58|       635|        88|      546|      172|        88|               88|                 3|                 8|                  10|                  4|                     7|           nao|           nao|           nao|           nao|           nao|       nao|\n",
            "|         2174|          1954|         graduacao|     solteiro|46344.0|          1|              1|     2014-08-03|                    38|        11|         1|        6|        2|         1|                6|                 2|                 1|                   1|                  2|                     5|           nao|           nao|           nao|           nao|           nao|       nao|\n",
            "|         4141|          1965|         graduacao|uniao_estavel|71613.0|          0|              0|     2013-08-21|                    26|       426|        49|      127|      111|        21|               42|                 1|                 8|                   2|                 10|                     4|           nao|           nao|           nao|           nao|           nao|       nao|\n",
            "|         6182|          1984|         graduacao|uniao_estavel|26646.0|          1|              0|     2014-10-02|                    26|        11|         4|       20|       10|         3|                5|                 2|                 2|                   0|                  4|                     6|           nao|           nao|           nao|           nao|           nao|       nao|\n",
            "|         5324|          1981|         doutorado|    casado(a)|58293.0|          1|              0|     2014-01-19|                    94|       173|        43|      118|       46|        27|               15|                 5|                 5|                   3|                  6|                     5|           nao|           nao|           nao|           nao|           nao|       nao|\n",
            "|         7446|          1967|            mestre|uniao_estavel|62513.0|          0|              1|     2013-09-09|                    16|       520|        42|       98|        0|        42|               14|                 2|                 6|                   4|                 10|                     6|           nao|           nao|           nao|           nao|           nao|       nao|\n",
            "|          965|          1971|         graduacao|divorciado(a)|55635.0|          0|              1|     2012-11-13|                    34|       235|        65|      164|       50|        49|               27|                 4|                 7|                   3|                  7|                     6|           nao|           nao|           nao|           nao|           nao|       nao|\n",
            "|         6177|          1985|         doutorado|    casado(a)|33454.0|          1|              0|     2013-08-05|                    32|        76|        10|       56|        3|         1|               23|                 2|                 4|                   0|                  4|                     8|           nao|           nao|           nao|           nao|           nao|       nao|\n",
            "|         4855|          1974|         doutorado|uniao_estavel|30351.0|          1|              0|     2013-06-06|                    19|        14|         0|       24|        3|         3|                2|                 1|                 3|                   0|                  2|                     9|           nao|           nao|           nao|           nao|           nao|       nao|\n",
            "|         5899|          1950|         doutorado|uniao_estavel| 5648.0|          1|              1|     2014-03-13|                    68|        28|         0|        6|        1|         1|               13|                 1|                 1|                   0|                  0|                    20|           sim|           nao|           nao|           nao|           nao|       nao|\n",
            "|         1994|          1983|         graduacao|    casado(a)|   null|          1|              0|     2013-11-15|                    11|         5|         5|        6|        0|         2|                1|                 1|                 1|                   0|                  2|                     7|           nao|           nao|           nao|           nao|           nao|       nao|\n",
            "|          387|          1976|ensino_fundamental|    casado(a)| 7500.0|          0|              0|     2012-11-13|                    59|         6|        16|       11|       11|         1|               16|                 1|                 2|                   0|                  3|                     8|           nao|           nao|           nao|           nao|           nao|       nao|\n",
            "|         2125|          1959|         graduacao|divorciado(a)|63033.0|          0|              0|     2013-11-15|                    82|       194|        61|      480|      225|       112|               30|                 1|                 3|                   4|                  8|                     2|           nao|           nao|           nao|           nao|           nao|       nao|\n",
            "|         8180|          1952|            mestre|divorciado(a)|59354.0|          1|              1|     2013-11-15|                    53|       233|         2|       53|        3|         5|               14|                 3|                 6|                   1|                  5|                     6|           nao|           nao|           nao|           nao|           nao|       nao|\n",
            "|         2569|          1987|         graduacao|    casado(a)|17323.0|          0|              0|     2012-10-10|                    38|         3|        14|       17|        6|         1|                5|                 1|                 1|                   0|                  3|                     8|           nao|           nao|           nao|           nao|           nao|       nao|\n",
            "|         2114|          1946|         doutorado|     solteiro|82800.0|          0|              0|     2012-11-24|                    23|      1006|        22|      115|       59|        68|               45|                 1|                 7|                   6|                 12|                     3|           nao|           nao|           sim|           sim|           nao|       nao|\n",
            "|         9736|          1980|         graduacao|    casado(a)|41850.0|          1|              1|     2012-12-24|                    51|        53|         5|       19|        2|        13|                4|                 3|                 3|                   0|                  3|                     8|           nao|           nao|           nao|           nao|           nao|       nao|\n",
            "|         4939|          1946|         graduacao|uniao_estavel|37760.0|          0|              0|     2012-08-31|                    20|        84|         5|       38|      150|        12|               28|                 2|                 4|                   1|                  6|                     7|           nao|           nao|           nao|           nao|           nao|       nao|\n",
            "|         6565|          1949|            mestre|    casado(a)|76995.0|          0|              1|     2013-03-28|                    91|      1012|        80|      498|        0|        16|              176|                 2|                11|                   4|                  9|                     5|           nao|           nao|           nao|           sim|           nao|       nao|\n",
            "|         2278|          1985| cursando_mestrado|     solteiro|33812.0|          1|              0|     2012-03-11|                    86|         4|        17|       19|       30|        24|               39|                 2|                 2|                   1|                  3|                     6|           nao|           nao|           nao|           nao|           nao|       nao|\n",
            "+-------------+--------------+------------------+-------------+-------+-----------+---------------+---------------+----------------------+----------+----------+---------+---------+----------+-----------------+------------------+------------------+--------------------+-------------------+----------------------+--------------+--------------+--------------+--------------+--------------+----------+\n",
            "only showing top 20 rows\n",
            "\n"
          ]
        }
      ]
    },
    {
      "cell_type": "markdown",
      "metadata": {
        "id": "UjwRmdKSGbRx"
      },
      "source": [
        "Criando uma nova coluna com base na preferencia de proteína"
      ]
    },
    {
      "cell_type": "code",
      "metadata": {
        "id": "K02QLOkLF2Dw",
        "colab": {
          "base_uri": "https://localhost:8080/"
        },
        "outputId": "efdda37f-f30a-4ce0-b94f-205f71229d24"
      },
      "source": [
        "df1 = (df.withColumn(\"proteina_preferida\", \n",
        "       F.when(F.col(\"qtd_carne\") > F.col(\"qtd_peixe\"), F.lit(\"prefere carne\"))\n",
        "        .otherwise(\"prefere peixe\")))\n",
        "df1.show()"
      ],
      "execution_count": null,
      "outputs": [
        {
          "output_type": "stream",
          "name": "stdout",
          "text": [
            "+-------------+--------------+------------------+-------------+-------+-----------+---------------+---------------+----------------------+----------+----------+---------+---------+----------+-----------------+------------------+------------------+--------------------+-------------------+----------------------+--------------+--------------+--------------+--------------+--------------+----------+------------------+\n",
            "|identificacao|ano_nascimento|          educacao| estado_civil|  renda|qtd_crianca|qtd_adolescente|primeira_compra|dias_desde_ult_compras|qtd_vinhos|qtd_frutas|qtd_carne|qtd_peixe|guloseimas|qtd_produtos_gold|qtd_ofertas_compra|qtd_compras_online|qtd_compras_catalogo|qtd_compras_na_loja|qtd_visitas_online_mes|oferta_aceita1|oferta_aceita2|oferta_aceita3|oferta_aceita4|oferta_aceita5|reclamacao|proteina_preferida|\n",
            "+-------------+--------------+------------------+-------------+-------+-----------+---------------+---------------+----------------------+----------+----------+---------+---------+----------+-----------------+------------------+------------------+--------------------+-------------------+----------------------+--------------+--------------+--------------+--------------+--------------+----------+------------------+\n",
            "|         5524|          1957|         graduacao|     solteiro|58138.0|          0|              0|     2012-04-09|                    58|       635|        88|      546|      172|        88|               88|                 3|                 8|                  10|                  4|                     7|           nao|           nao|           nao|           nao|           nao|       nao|     prefere carne|\n",
            "|         2174|          1954|         graduacao|     solteiro|46344.0|          1|              1|     2014-08-03|                    38|        11|         1|        6|        2|         1|                6|                 2|                 1|                   1|                  2|                     5|           nao|           nao|           nao|           nao|           nao|       nao|     prefere carne|\n",
            "|         4141|          1965|         graduacao|uniao_estavel|71613.0|          0|              0|     2013-08-21|                    26|       426|        49|      127|      111|        21|               42|                 1|                 8|                   2|                 10|                     4|           nao|           nao|           nao|           nao|           nao|       nao|     prefere carne|\n",
            "|         6182|          1984|         graduacao|uniao_estavel|26646.0|          1|              0|     2014-10-02|                    26|        11|         4|       20|       10|         3|                5|                 2|                 2|                   0|                  4|                     6|           nao|           nao|           nao|           nao|           nao|       nao|     prefere carne|\n",
            "|         5324|          1981|         doutorado|    casado(a)|58293.0|          1|              0|     2014-01-19|                    94|       173|        43|      118|       46|        27|               15|                 5|                 5|                   3|                  6|                     5|           nao|           nao|           nao|           nao|           nao|       nao|     prefere carne|\n",
            "|         7446|          1967|            mestre|uniao_estavel|62513.0|          0|              1|     2013-09-09|                    16|       520|        42|       98|        0|        42|               14|                 2|                 6|                   4|                 10|                     6|           nao|           nao|           nao|           nao|           nao|       nao|     prefere carne|\n",
            "|          965|          1971|         graduacao|divorciado(a)|55635.0|          0|              1|     2012-11-13|                    34|       235|        65|      164|       50|        49|               27|                 4|                 7|                   3|                  7|                     6|           nao|           nao|           nao|           nao|           nao|       nao|     prefere carne|\n",
            "|         6177|          1985|         doutorado|    casado(a)|33454.0|          1|              0|     2013-08-05|                    32|        76|        10|       56|        3|         1|               23|                 2|                 4|                   0|                  4|                     8|           nao|           nao|           nao|           nao|           nao|       nao|     prefere carne|\n",
            "|         4855|          1974|         doutorado|uniao_estavel|30351.0|          1|              0|     2013-06-06|                    19|        14|         0|       24|        3|         3|                2|                 1|                 3|                   0|                  2|                     9|           nao|           nao|           nao|           nao|           nao|       nao|     prefere carne|\n",
            "|         5899|          1950|         doutorado|uniao_estavel| 5648.0|          1|              1|     2014-03-13|                    68|        28|         0|        6|        1|         1|               13|                 1|                 1|                   0|                  0|                    20|           sim|           nao|           nao|           nao|           nao|       nao|     prefere carne|\n",
            "|         1994|          1983|         graduacao|    casado(a)|   null|          1|              0|     2013-11-15|                    11|         5|         5|        6|        0|         2|                1|                 1|                 1|                   0|                  2|                     7|           nao|           nao|           nao|           nao|           nao|       nao|     prefere carne|\n",
            "|          387|          1976|ensino_fundamental|    casado(a)| 7500.0|          0|              0|     2012-11-13|                    59|         6|        16|       11|       11|         1|               16|                 1|                 2|                   0|                  3|                     8|           nao|           nao|           nao|           nao|           nao|       nao|     prefere peixe|\n",
            "|         2125|          1959|         graduacao|divorciado(a)|63033.0|          0|              0|     2013-11-15|                    82|       194|        61|      480|      225|       112|               30|                 1|                 3|                   4|                  8|                     2|           nao|           nao|           nao|           nao|           nao|       nao|     prefere carne|\n",
            "|         8180|          1952|            mestre|divorciado(a)|59354.0|          1|              1|     2013-11-15|                    53|       233|         2|       53|        3|         5|               14|                 3|                 6|                   1|                  5|                     6|           nao|           nao|           nao|           nao|           nao|       nao|     prefere carne|\n",
            "|         2569|          1987|         graduacao|    casado(a)|17323.0|          0|              0|     2012-10-10|                    38|         3|        14|       17|        6|         1|                5|                 1|                 1|                   0|                  3|                     8|           nao|           nao|           nao|           nao|           nao|       nao|     prefere carne|\n",
            "|         2114|          1946|         doutorado|     solteiro|82800.0|          0|              0|     2012-11-24|                    23|      1006|        22|      115|       59|        68|               45|                 1|                 7|                   6|                 12|                     3|           nao|           nao|           sim|           sim|           nao|       nao|     prefere carne|\n",
            "|         9736|          1980|         graduacao|    casado(a)|41850.0|          1|              1|     2012-12-24|                    51|        53|         5|       19|        2|        13|                4|                 3|                 3|                   0|                  3|                     8|           nao|           nao|           nao|           nao|           nao|       nao|     prefere carne|\n",
            "|         4939|          1946|         graduacao|uniao_estavel|37760.0|          0|              0|     2012-08-31|                    20|        84|         5|       38|      150|        12|               28|                 2|                 4|                   1|                  6|                     7|           nao|           nao|           nao|           nao|           nao|       nao|     prefere peixe|\n",
            "|         6565|          1949|            mestre|    casado(a)|76995.0|          0|              1|     2013-03-28|                    91|      1012|        80|      498|        0|        16|              176|                 2|                11|                   4|                  9|                     5|           nao|           nao|           nao|           sim|           nao|       nao|     prefere carne|\n",
            "|         2278|          1985| cursando_mestrado|     solteiro|33812.0|          1|              0|     2012-03-11|                    86|         4|        17|       19|       30|        24|               39|                 2|                 2|                   1|                  3|                     6|           nao|           nao|           nao|           nao|           nao|       nao|     prefere peixe|\n",
            "+-------------+--------------+------------------+-------------+-------+-----------+---------------+---------------+----------------------+----------+----------+---------+---------+----------+-----------------+------------------+------------------+--------------------+-------------------+----------------------+--------------+--------------+--------------+--------------+--------------+----------+------------------+\n",
            "only showing top 20 rows\n",
            "\n"
          ]
        }
      ]
    },
    {
      "cell_type": "markdown",
      "metadata": {
        "id": "-2OlWxPIGYB8"
      },
      "source": [
        "Criando uma nova coluna com base se o cliente já fez compra online"
      ]
    },
    {
      "cell_type": "code",
      "metadata": {
        "id": "uE0jYHjuF9CN",
        "colab": {
          "base_uri": "https://localhost:8080/"
        },
        "outputId": "447203f3-f29a-4f68-c931-b80cb449b883"
      },
      "source": [
        "df2 = (df1.withColumn(\"comprou_online\", \n",
        "       F.when(F.col(\"qtd_compras_online\") > 0, F.lit(\"já comprou\"))\n",
        "        .otherwise(\"não comprou\")))\n",
        "df2.show()"
      ],
      "execution_count": null,
      "outputs": [
        {
          "output_type": "stream",
          "name": "stdout",
          "text": [
            "+-------------+--------------+------------------+-------------+-------+-----------+---------------+---------------+----------------------+----------+----------+---------+---------+----------+-----------------+------------------+------------------+--------------------+-------------------+----------------------+--------------+--------------+--------------+--------------+--------------+----------+------------------+--------------+\n",
            "|identificacao|ano_nascimento|          educacao| estado_civil|  renda|qtd_crianca|qtd_adolescente|primeira_compra|dias_desde_ult_compras|qtd_vinhos|qtd_frutas|qtd_carne|qtd_peixe|guloseimas|qtd_produtos_gold|qtd_ofertas_compra|qtd_compras_online|qtd_compras_catalogo|qtd_compras_na_loja|qtd_visitas_online_mes|oferta_aceita1|oferta_aceita2|oferta_aceita3|oferta_aceita4|oferta_aceita5|reclamacao|proteina_preferida|comprou_online|\n",
            "+-------------+--------------+------------------+-------------+-------+-----------+---------------+---------------+----------------------+----------+----------+---------+---------+----------+-----------------+------------------+------------------+--------------------+-------------------+----------------------+--------------+--------------+--------------+--------------+--------------+----------+------------------+--------------+\n",
            "|         5524|          1957|         graduacao|     solteiro|58138.0|          0|              0|     2012-04-09|                    58|       635|        88|      546|      172|        88|               88|                 3|                 8|                  10|                  4|                     7|           nao|           nao|           nao|           nao|           nao|       nao|     prefere carne|    já comprou|\n",
            "|         2174|          1954|         graduacao|     solteiro|46344.0|          1|              1|     2014-08-03|                    38|        11|         1|        6|        2|         1|                6|                 2|                 1|                   1|                  2|                     5|           nao|           nao|           nao|           nao|           nao|       nao|     prefere carne|    já comprou|\n",
            "|         4141|          1965|         graduacao|uniao_estavel|71613.0|          0|              0|     2013-08-21|                    26|       426|        49|      127|      111|        21|               42|                 1|                 8|                   2|                 10|                     4|           nao|           nao|           nao|           nao|           nao|       nao|     prefere carne|    já comprou|\n",
            "|         6182|          1984|         graduacao|uniao_estavel|26646.0|          1|              0|     2014-10-02|                    26|        11|         4|       20|       10|         3|                5|                 2|                 2|                   0|                  4|                     6|           nao|           nao|           nao|           nao|           nao|       nao|     prefere carne|    já comprou|\n",
            "|         5324|          1981|         doutorado|    casado(a)|58293.0|          1|              0|     2014-01-19|                    94|       173|        43|      118|       46|        27|               15|                 5|                 5|                   3|                  6|                     5|           nao|           nao|           nao|           nao|           nao|       nao|     prefere carne|    já comprou|\n",
            "|         7446|          1967|            mestre|uniao_estavel|62513.0|          0|              1|     2013-09-09|                    16|       520|        42|       98|        0|        42|               14|                 2|                 6|                   4|                 10|                     6|           nao|           nao|           nao|           nao|           nao|       nao|     prefere carne|    já comprou|\n",
            "|          965|          1971|         graduacao|divorciado(a)|55635.0|          0|              1|     2012-11-13|                    34|       235|        65|      164|       50|        49|               27|                 4|                 7|                   3|                  7|                     6|           nao|           nao|           nao|           nao|           nao|       nao|     prefere carne|    já comprou|\n",
            "|         6177|          1985|         doutorado|    casado(a)|33454.0|          1|              0|     2013-08-05|                    32|        76|        10|       56|        3|         1|               23|                 2|                 4|                   0|                  4|                     8|           nao|           nao|           nao|           nao|           nao|       nao|     prefere carne|    já comprou|\n",
            "|         4855|          1974|         doutorado|uniao_estavel|30351.0|          1|              0|     2013-06-06|                    19|        14|         0|       24|        3|         3|                2|                 1|                 3|                   0|                  2|                     9|           nao|           nao|           nao|           nao|           nao|       nao|     prefere carne|    já comprou|\n",
            "|         5899|          1950|         doutorado|uniao_estavel| 5648.0|          1|              1|     2014-03-13|                    68|        28|         0|        6|        1|         1|               13|                 1|                 1|                   0|                  0|                    20|           sim|           nao|           nao|           nao|           nao|       nao|     prefere carne|    já comprou|\n",
            "|         1994|          1983|         graduacao|    casado(a)|   null|          1|              0|     2013-11-15|                    11|         5|         5|        6|        0|         2|                1|                 1|                 1|                   0|                  2|                     7|           nao|           nao|           nao|           nao|           nao|       nao|     prefere carne|    já comprou|\n",
            "|          387|          1976|ensino_fundamental|    casado(a)| 7500.0|          0|              0|     2012-11-13|                    59|         6|        16|       11|       11|         1|               16|                 1|                 2|                   0|                  3|                     8|           nao|           nao|           nao|           nao|           nao|       nao|     prefere peixe|    já comprou|\n",
            "|         2125|          1959|         graduacao|divorciado(a)|63033.0|          0|              0|     2013-11-15|                    82|       194|        61|      480|      225|       112|               30|                 1|                 3|                   4|                  8|                     2|           nao|           nao|           nao|           nao|           nao|       nao|     prefere carne|    já comprou|\n",
            "|         8180|          1952|            mestre|divorciado(a)|59354.0|          1|              1|     2013-11-15|                    53|       233|         2|       53|        3|         5|               14|                 3|                 6|                   1|                  5|                     6|           nao|           nao|           nao|           nao|           nao|       nao|     prefere carne|    já comprou|\n",
            "|         2569|          1987|         graduacao|    casado(a)|17323.0|          0|              0|     2012-10-10|                    38|         3|        14|       17|        6|         1|                5|                 1|                 1|                   0|                  3|                     8|           nao|           nao|           nao|           nao|           nao|       nao|     prefere carne|    já comprou|\n",
            "|         2114|          1946|         doutorado|     solteiro|82800.0|          0|              0|     2012-11-24|                    23|      1006|        22|      115|       59|        68|               45|                 1|                 7|                   6|                 12|                     3|           nao|           nao|           sim|           sim|           nao|       nao|     prefere carne|    já comprou|\n",
            "|         9736|          1980|         graduacao|    casado(a)|41850.0|          1|              1|     2012-12-24|                    51|        53|         5|       19|        2|        13|                4|                 3|                 3|                   0|                  3|                     8|           nao|           nao|           nao|           nao|           nao|       nao|     prefere carne|    já comprou|\n",
            "|         4939|          1946|         graduacao|uniao_estavel|37760.0|          0|              0|     2012-08-31|                    20|        84|         5|       38|      150|        12|               28|                 2|                 4|                   1|                  6|                     7|           nao|           nao|           nao|           nao|           nao|       nao|     prefere peixe|    já comprou|\n",
            "|         6565|          1949|            mestre|    casado(a)|76995.0|          0|              1|     2013-03-28|                    91|      1012|        80|      498|        0|        16|              176|                 2|                11|                   4|                  9|                     5|           nao|           nao|           nao|           sim|           nao|       nao|     prefere carne|    já comprou|\n",
            "|         2278|          1985| cursando_mestrado|     solteiro|33812.0|          1|              0|     2012-03-11|                    86|         4|        17|       19|       30|        24|               39|                 2|                 2|                   1|                  3|                     6|           nao|           nao|           nao|           nao|           nao|       nao|     prefere peixe|    já comprou|\n",
            "+-------------+--------------+------------------+-------------+-------+-----------+---------------+---------------+----------------------+----------+----------+---------+---------+----------+-----------------+------------------+------------------+--------------------+-------------------+----------------------+--------------+--------------+--------------+--------------+--------------+----------+------------------+--------------+\n",
            "only showing top 20 rows\n",
            "\n"
          ]
        }
      ]
    },
    {
      "cell_type": "markdown",
      "metadata": {
        "id": "6SPQYtMIKiPJ"
      },
      "source": [
        "Criando uma nova coluna para a quantidade total de filhos do cliente"
      ]
    },
    {
      "cell_type": "code",
      "metadata": {
        "id": "eGwf_jm6H34P",
        "colab": {
          "base_uri": "https://localhost:8080/"
        },
        "outputId": "da4f9d29-50b5-4b30-9d33-3130ce677c5a"
      },
      "source": [
        "df2 = df2.withColumn(\"qtd_filhos\", F.col(\"qtd_crianca\") + F.col(\"qtd_adolescente\"))\n",
        "df2.show()"
      ],
      "execution_count": null,
      "outputs": [
        {
          "output_type": "stream",
          "name": "stdout",
          "text": [
            "+-------------+--------------+------------------+-------------+-------+-----------+---------------+---------------+----------------------+----------+----------+---------+---------+----------+-----------------+------------------+------------------+--------------------+-------------------+----------------------+--------------+--------------+--------------+--------------+--------------+----------+------------------+--------------+----------+\n",
            "|identificacao|ano_nascimento|          educacao| estado_civil|  renda|qtd_crianca|qtd_adolescente|primeira_compra|dias_desde_ult_compras|qtd_vinhos|qtd_frutas|qtd_carne|qtd_peixe|guloseimas|qtd_produtos_gold|qtd_ofertas_compra|qtd_compras_online|qtd_compras_catalogo|qtd_compras_na_loja|qtd_visitas_online_mes|oferta_aceita1|oferta_aceita2|oferta_aceita3|oferta_aceita4|oferta_aceita5|reclamacao|proteina_preferida|comprou_online|qtd_filhos|\n",
            "+-------------+--------------+------------------+-------------+-------+-----------+---------------+---------------+----------------------+----------+----------+---------+---------+----------+-----------------+------------------+------------------+--------------------+-------------------+----------------------+--------------+--------------+--------------+--------------+--------------+----------+------------------+--------------+----------+\n",
            "|         5524|          1957|         graduacao|     solteiro|58138.0|          0|              0|     2012-04-09|                    58|       635|        88|      546|      172|        88|               88|                 3|                 8|                  10|                  4|                     7|           nao|           nao|           nao|           nao|           nao|       nao|     prefere carne|    já comprou|         0|\n",
            "|         2174|          1954|         graduacao|     solteiro|46344.0|          1|              1|     2014-08-03|                    38|        11|         1|        6|        2|         1|                6|                 2|                 1|                   1|                  2|                     5|           nao|           nao|           nao|           nao|           nao|       nao|     prefere carne|    já comprou|         2|\n",
            "|         4141|          1965|         graduacao|uniao_estavel|71613.0|          0|              0|     2013-08-21|                    26|       426|        49|      127|      111|        21|               42|                 1|                 8|                   2|                 10|                     4|           nao|           nao|           nao|           nao|           nao|       nao|     prefere carne|    já comprou|         0|\n",
            "|         6182|          1984|         graduacao|uniao_estavel|26646.0|          1|              0|     2014-10-02|                    26|        11|         4|       20|       10|         3|                5|                 2|                 2|                   0|                  4|                     6|           nao|           nao|           nao|           nao|           nao|       nao|     prefere carne|    já comprou|         1|\n",
            "|         5324|          1981|         doutorado|    casado(a)|58293.0|          1|              0|     2014-01-19|                    94|       173|        43|      118|       46|        27|               15|                 5|                 5|                   3|                  6|                     5|           nao|           nao|           nao|           nao|           nao|       nao|     prefere carne|    já comprou|         1|\n",
            "|         7446|          1967|            mestre|uniao_estavel|62513.0|          0|              1|     2013-09-09|                    16|       520|        42|       98|        0|        42|               14|                 2|                 6|                   4|                 10|                     6|           nao|           nao|           nao|           nao|           nao|       nao|     prefere carne|    já comprou|         1|\n",
            "|          965|          1971|         graduacao|divorciado(a)|55635.0|          0|              1|     2012-11-13|                    34|       235|        65|      164|       50|        49|               27|                 4|                 7|                   3|                  7|                     6|           nao|           nao|           nao|           nao|           nao|       nao|     prefere carne|    já comprou|         1|\n",
            "|         6177|          1985|         doutorado|    casado(a)|33454.0|          1|              0|     2013-08-05|                    32|        76|        10|       56|        3|         1|               23|                 2|                 4|                   0|                  4|                     8|           nao|           nao|           nao|           nao|           nao|       nao|     prefere carne|    já comprou|         1|\n",
            "|         4855|          1974|         doutorado|uniao_estavel|30351.0|          1|              0|     2013-06-06|                    19|        14|         0|       24|        3|         3|                2|                 1|                 3|                   0|                  2|                     9|           nao|           nao|           nao|           nao|           nao|       nao|     prefere carne|    já comprou|         1|\n",
            "|         5899|          1950|         doutorado|uniao_estavel| 5648.0|          1|              1|     2014-03-13|                    68|        28|         0|        6|        1|         1|               13|                 1|                 1|                   0|                  0|                    20|           sim|           nao|           nao|           nao|           nao|       nao|     prefere carne|    já comprou|         2|\n",
            "|         1994|          1983|         graduacao|    casado(a)|   null|          1|              0|     2013-11-15|                    11|         5|         5|        6|        0|         2|                1|                 1|                 1|                   0|                  2|                     7|           nao|           nao|           nao|           nao|           nao|       nao|     prefere carne|    já comprou|         1|\n",
            "|          387|          1976|ensino_fundamental|    casado(a)| 7500.0|          0|              0|     2012-11-13|                    59|         6|        16|       11|       11|         1|               16|                 1|                 2|                   0|                  3|                     8|           nao|           nao|           nao|           nao|           nao|       nao|     prefere peixe|    já comprou|         0|\n",
            "|         2125|          1959|         graduacao|divorciado(a)|63033.0|          0|              0|     2013-11-15|                    82|       194|        61|      480|      225|       112|               30|                 1|                 3|                   4|                  8|                     2|           nao|           nao|           nao|           nao|           nao|       nao|     prefere carne|    já comprou|         0|\n",
            "|         8180|          1952|            mestre|divorciado(a)|59354.0|          1|              1|     2013-11-15|                    53|       233|         2|       53|        3|         5|               14|                 3|                 6|                   1|                  5|                     6|           nao|           nao|           nao|           nao|           nao|       nao|     prefere carne|    já comprou|         2|\n",
            "|         2569|          1987|         graduacao|    casado(a)|17323.0|          0|              0|     2012-10-10|                    38|         3|        14|       17|        6|         1|                5|                 1|                 1|                   0|                  3|                     8|           nao|           nao|           nao|           nao|           nao|       nao|     prefere carne|    já comprou|         0|\n",
            "|         2114|          1946|         doutorado|     solteiro|82800.0|          0|              0|     2012-11-24|                    23|      1006|        22|      115|       59|        68|               45|                 1|                 7|                   6|                 12|                     3|           nao|           nao|           sim|           sim|           nao|       nao|     prefere carne|    já comprou|         0|\n",
            "|         9736|          1980|         graduacao|    casado(a)|41850.0|          1|              1|     2012-12-24|                    51|        53|         5|       19|        2|        13|                4|                 3|                 3|                   0|                  3|                     8|           nao|           nao|           nao|           nao|           nao|       nao|     prefere carne|    já comprou|         2|\n",
            "|         4939|          1946|         graduacao|uniao_estavel|37760.0|          0|              0|     2012-08-31|                    20|        84|         5|       38|      150|        12|               28|                 2|                 4|                   1|                  6|                     7|           nao|           nao|           nao|           nao|           nao|       nao|     prefere peixe|    já comprou|         0|\n",
            "|         6565|          1949|            mestre|    casado(a)|76995.0|          0|              1|     2013-03-28|                    91|      1012|        80|      498|        0|        16|              176|                 2|                11|                   4|                  9|                     5|           nao|           nao|           nao|           sim|           nao|       nao|     prefere carne|    já comprou|         1|\n",
            "|         2278|          1985| cursando_mestrado|     solteiro|33812.0|          1|              0|     2012-03-11|                    86|         4|        17|       19|       30|        24|               39|                 2|                 2|                   1|                  3|                     6|           nao|           nao|           nao|           nao|           nao|       nao|     prefere peixe|    já comprou|         1|\n",
            "+-------------+--------------+------------------+-------------+-------+-----------+---------------+---------------+----------------------+----------+----------+---------+---------+----------+-----------------+------------------+------------------+--------------------+-------------------+----------------------+--------------+--------------+--------------+--------------+--------------+----------+------------------+--------------+----------+\n",
            "only showing top 20 rows\n",
            "\n"
          ]
        }
      ]
    },
    {
      "cell_type": "markdown",
      "metadata": {
        "id": "gYYo_o7fGTSS"
      },
      "source": [
        "Mostra qual tipo de cliente (agrupando pela escolaridade) o mercado mais atende"
      ]
    },
    {
      "cell_type": "code",
      "metadata": {
        "id": "_JQrQsLCGGvc",
        "colab": {
          "base_uri": "https://localhost:8080/"
        },
        "outputId": "4d8a481a-a81c-41a5-99af-d4c04e60c74e"
      },
      "source": [
        "df2.groupby(F.col(\"educacao\")).count().show()\n"
      ],
      "execution_count": null,
      "outputs": [
        {
          "output_type": "stream",
          "name": "stdout",
          "text": [
            "+------------------+-----+\n",
            "|          educacao|count|\n",
            "+------------------+-----+\n",
            "| cursando_mestrado|  201|\n",
            "|            mestre|  370|\n",
            "|         doutorado|  485|\n",
            "|         graduacao| 1127|\n",
            "|ensino_fundamental|   54|\n",
            "+------------------+-----+\n",
            "\n"
          ]
        }
      ]
    },
    {
      "cell_type": "markdown",
      "metadata": {
        "id": "7i5TnT9lWu8o"
      },
      "source": [
        "Identificando os clientes por seu id, escolaridade e estado civil e a quantidade de vinhos que ele já comprou"
      ]
    },
    {
      "cell_type": "code",
      "metadata": {
        "id": "mAOz7p3UGO04",
        "colab": {
          "base_uri": "https://localhost:8080/"
        },
        "outputId": "b716f468-d0bb-4c29-cbc7-5e642c23a718"
      },
      "source": [
        "df2.select(F.col(\"identificacao\"), F.col(\"educacao\"), F.col(\"estado_civil\"), F.col(\"qtd_vinhos\")).filter(F.col(\"estado_civil\") == \"solteiro\").show()"
      ],
      "execution_count": null,
      "outputs": [
        {
          "output_type": "stream",
          "name": "stdout",
          "text": [
            "+-------------+-----------------+------------+----------+\n",
            "|identificacao|         educacao|estado_civil|qtd_vinhos|\n",
            "+-------------+-----------------+------------+----------+\n",
            "|         5524|        graduacao|    solteiro|       635|\n",
            "|         2174|        graduacao|    solteiro|        11|\n",
            "|         2114|        doutorado|    solteiro|      1006|\n",
            "|         2278|cursando_mestrado|    solteiro|         4|\n",
            "|         7892|        graduacao|    solteiro|         6|\n",
            "|         5255|        graduacao|    solteiro|         5|\n",
            "|        10738|           mestre|    solteiro|        40|\n",
            "|         7281|        doutorado|    solteiro|        81|\n",
            "|         1371|        graduacao|    solteiro|       123|\n",
            "|         7244|        graduacao|    solteiro|        48|\n",
            "|         1331|        graduacao|    solteiro|        12|\n",
            "|         7437|        graduacao|    solteiro|        13|\n",
            "|         8557|        graduacao|    solteiro|        11|\n",
            "|         6853|           mestre|    solteiro|       712|\n",
            "|         1012|        graduacao|    solteiro|       523|\n",
            "|         9369|cursando_mestrado|    solteiro|       688|\n",
            "|         7503|        graduacao|    solteiro|      1032|\n",
            "|         3332|        graduacao|    solteiro|        64|\n",
            "|         4452|        graduacao|    solteiro|       292|\n",
            "|         9235|        graduacao|    solteiro|         7|\n",
            "+-------------+-----------------+------------+----------+\n",
            "only showing top 20 rows\n",
            "\n"
          ]
        }
      ]
    },
    {
      "cell_type": "markdown",
      "metadata": {
        "id": "F_qFs_J7k-Kr"
      },
      "source": [
        "Filtrando os clientes que tem doutorado e são casados"
      ]
    },
    {
      "cell_type": "code",
      "metadata": {
        "id": "cBLPtd7rL9yP",
        "colab": {
          "base_uri": "https://localhost:8080/"
        },
        "outputId": "798c1d32-a5bc-4bef-b3ff-ac44bfb20771"
      },
      "source": [
        "filtro1 = F.col(\"educacao\") == \"doutorado\"\n",
        "filtro2 = F.col(\"estado_civil\") == \"casado(a)\"\n",
        "df2.select(F.col(\"identificacao\"), \n",
        "           F.col(\"educacao\"),\n",
        "           F.col(\"estado_civil\")).filter(filtro1 & filtro2).show()"
      ],
      "execution_count": null,
      "outputs": [
        {
          "output_type": "stream",
          "name": "stdout",
          "text": [
            "+-------------+---------+------------+\n",
            "|identificacao| educacao|estado_civil|\n",
            "+-------------+---------+------------+\n",
            "|         5324|doutorado|   casado(a)|\n",
            "|         6177|doutorado|   casado(a)|\n",
            "|         1993|doutorado|   casado(a)|\n",
            "|         4047|doutorado|   casado(a)|\n",
            "|         1966|doutorado|   casado(a)|\n",
            "|         4339|doutorado|   casado(a)|\n",
            "|         6566|doutorado|   casado(a)|\n",
            "|         8375|doutorado|   casado(a)|\n",
            "|         8132|doutorado|   casado(a)|\n",
            "|         8996|doutorado|   casado(a)|\n",
            "|         2230|doutorado|   casado(a)|\n",
            "|         3037|doutorado|   casado(a)|\n",
            "|         9370|doutorado|   casado(a)|\n",
            "|         9215|doutorado|   casado(a)|\n",
            "|         8268|doutorado|   casado(a)|\n",
            "|         5290|doutorado|   casado(a)|\n",
            "|         9579|doutorado|   casado(a)|\n",
            "|         9260|doutorado|   casado(a)|\n",
            "|         8475|doutorado|   casado(a)|\n",
            "|         8717|doutorado|   casado(a)|\n",
            "+-------------+---------+------------+\n",
            "only showing top 20 rows\n",
            "\n"
          ]
        }
      ]
    },
    {
      "cell_type": "markdown",
      "metadata": {
        "id": "L9qOqKOFwzNJ"
      },
      "source": [
        "Mostrando quando foi a última vez que os clientes (ordenados pela identificação) compraram no mercado."
      ]
    },
    {
      "cell_type": "code",
      "metadata": {
        "id": "EBP12aOllFTt",
        "colab": {
          "base_uri": "https://localhost:8080/"
        },
        "outputId": "016343e2-896d-4e9a-b665-2ab6151f27b2"
      },
      "source": [
        "df2.select(F.col(\"identificacao\"),\n",
        "           F.col(\"dias_desde_ult_compras\")).orderBy(F.col(\"identificacao\").asc()).show(truncate=False)"
      ],
      "execution_count": null,
      "outputs": [
        {
          "output_type": "stream",
          "name": "stdout",
          "text": [
            "+-------------+----------------------+\n",
            "|identificacao|dias_desde_ult_compras|\n",
            "+-------------+----------------------+\n",
            "|0            |66                    |\n",
            "|1            |0                     |\n",
            "|9            |86                    |\n",
            "|13           |57                    |\n",
            "|17           |81                    |\n",
            "|20           |91                    |\n",
            "|22           |99                    |\n",
            "|24           |96                    |\n",
            "|25           |9                     |\n",
            "|35           |35                    |\n",
            "|48           |97                    |\n",
            "|49           |39                    |\n",
            "|55           |83                    |\n",
            "|67           |6                     |\n",
            "|73           |81                    |\n",
            "|75           |32                    |\n",
            "|78           |51                    |\n",
            "|87           |16                    |\n",
            "|89           |49                    |\n",
            "|92           |12                    |\n",
            "+-------------+----------------------+\n",
            "only showing top 20 rows\n",
            "\n"
          ]
        }
      ]
    },
    {
      "cell_type": "markdown",
      "metadata": {
        "id": "UW2YdQKpy7a2"
      },
      "source": [
        "Retorna o número da linha de acordo com a coluna que foi particionada\n",
        "\n"
      ]
    },
    {
      "cell_type": "code",
      "metadata": {
        "id": "oyWzcgl4x7gL",
        "colab": {
          "base_uri": "https://localhost:8080/"
        },
        "outputId": "ded7e012-c075-4d99-b56e-1e8e5c5aa205"
      },
      "source": [
        "w0 = Window.partitionBy(F.col(\"educacao\")).orderBy(\"renda\")\n",
        "df2.withColumn(\"row_number\", F.row_number().over(w0)).show()\n"
      ],
      "execution_count": null,
      "outputs": [
        {
          "output_type": "stream",
          "name": "stdout",
          "text": [
            "+-------------+--------------+-----------------+-------------+-------+-----------+---------------+---------------+----------------------+----------+----------+---------+---------+----------+-----------------+------------------+------------------+--------------------+-------------------+----------------------+--------------+--------------+--------------+--------------+--------------+----------+------------------+--------------+----------+----------+\n",
            "|identificacao|ano_nascimento|         educacao| estado_civil|  renda|qtd_crianca|qtd_adolescente|primeira_compra|dias_desde_ult_compras|qtd_vinhos|qtd_frutas|qtd_carne|qtd_peixe|guloseimas|qtd_produtos_gold|qtd_ofertas_compra|qtd_compras_online|qtd_compras_catalogo|qtd_compras_na_loja|qtd_visitas_online_mes|oferta_aceita1|oferta_aceita2|oferta_aceita3|oferta_aceita4|oferta_aceita5|reclamacao|proteina_preferida|comprou_online|qtd_filhos|row_number|\n",
            "+-------------+--------------+-----------------+-------------+-------+-----------+---------------+---------------+----------------------+----------+----------+---------+---------+----------+-----------------+------------------+------------------+--------------------+-------------------+----------------------+--------------+--------------+--------------+--------------+--------------+----------+------------------+--------------+----------+----------+\n",
            "|        10629|          1973|cursando_mestrado|    casado(a)|   null|          1|              0|     2012-09-14|                    25|        25|         3|       43|       17|         4|               17|                 3|                 3|                   0|                  3|                     8|           nao|           nao|           nao|           nao|           nao|       nao|     prefere carne|    já comprou|         1|         1|\n",
            "|         4345|          1964|cursando_mestrado|     solteiro|   null|          1|              1|     2014-12-01|                    49|         5|         1|        9|        2|         0|                4|                 1|                 1|                   0|                  2|                     7|           nao|           nao|           nao|           nao|           nao|       nao|     prefere carne|    já comprou|         2|         2|\n",
            "|         8720|          1978|cursando_mestrado|uniao_estavel|   null|          0|              0|     2012-12-08|                    53|        32|         2|     1607|       12|         4|               22|                 0|                 0|                   0|                  1|                     0|           nao|           sim|           nao|           nao|           nao|       nao|     prefere carne|   não comprou|         0|         3|\n",
            "|         9909|          1996|cursando_mestrado|    casado(a)| 7500.0|          0|              0|     2012-09-11|                    24|         3|        18|       14|       15|        22|               50|                 3|                 3|                   1|                  3|                     9|           nao|           nao|           nao|           nao|           nao|       nao|     prefere peixe|    já comprou|         0|         4|\n",
            "|          456|          1986|cursando_mestrado|    casado(a)| 7500.0|          1|              0|     2013-07-02|                    96|         1|        11|        5|        4|         6|                9|                 2|                 2|                   0|                  3|                     8|           nao|           nao|           nao|           nao|           nao|       nao|     prefere carne|    já comprou|         1|         5|\n",
            "|        10001|          1985|cursando_mestrado|uniao_estavel| 7500.0|          1|              0|     2012-01-08|                    98|         5|        17|       17|       13|        14|               34|                 4|                 2|                   1|                  3|                     9|           nao|           nao|           nao|           nao|           nao|       nao|     prefere carne|    já comprou|         1|         6|\n",
            "|        10659|          1979|cursando_mestrado|uniao_estavel| 7500.0|          1|              0|     2013-07-05|                     7|         2|         8|       11|        3|         8|               21|                 4|                 3|                   2|                  2|                     7|           nao|           nao|           nao|           nao|           nao|       nao|     prefere carne|    já comprou|         1|         7|\n",
            "|         5987|          1989|cursando_mestrado|uniao_estavel|10404.0|          1|              0|     2014-04-05|                    52|         2|         2|       11|       10|         6|               12|                 2|                 1|                   0|                  4|                     5|           nao|           nao|           nao|           nao|           nao|       nao|     prefere carne|    já comprou|         1|         8|\n",
            "|        10241|          1975|cursando_mestrado|divorciado(a)|11448.0|          0|              0|     2013-12-15|                    16|         0|         0|        0|        6|         2|                6|                 1|                 1|                   0|                  2|                     6|           nao|           nao|           nao|           nao|           nao|       nao|     prefere peixe|    já comprou|         0|         9|\n",
            "|         1773|          1978|cursando_mestrado|    casado(a)|12393.0|          0|              0|     2012-04-12|                    38|         5|         6|       15|       11|         7|               13|                 1|                 2|                   0|                  3|                     9|           nao|           nao|           nao|           nao|           nao|       nao|     prefere carne|    já comprou|         0|        10|\n",
            "|         8812|          1979|cursando_mestrado|divorciado(a)|13533.0|          1|              0|     2013-10-03|                    45|        12|         3|        8|        8|         0|               17|                 2|                 2|                   0|                  3|                     7|           nao|           nao|           nao|           nao|           nao|       nao|     prefere peixe|    já comprou|         1|        11|\n",
            "|         8213|          1980|cursando_mestrado|uniao_estavel|14515.0|          1|              0|     2012-09-11|                    71|         6|         4|        9|        6|        36|               35|                 4|                 2|                   2|                  3|                     7|           nao|           nao|           nao|           nao|           nao|       nao|     prefere carne|    já comprou|         1|        12|\n",
            "|         1241|          1984|cursando_mestrado|    casado(a)|14796.0|          1|              0|     2012-09-17|                     1|        13|         3|        8|        7|         4|               16|                 2|                 1|                   0|                  3|                     9|           nao|           nao|           nao|           nao|           nao|       nao|     prefere carne|    já comprou|         1|        13|\n",
            "|         8420|          1970|cursando_mestrado|    casado(a)|15315.0|          0|              0|     2013-03-08|                    27|         7|         4|       13|       15|         8|               17|                 2|                 2|                   0|                  4|                     5|           nao|           nao|           nao|           nao|           nao|       nao|     prefere peixe|    já comprou|         0|        14|\n",
            "|        10065|          1970|cursando_mestrado|    casado(a)|15315.0|          0|              0|     2013-03-08|                    27|         7|         4|       13|       15|         8|               17|                 2|                 2|                   0|                  4|                     5|           nao|           nao|           nao|           nao|           nao|       nao|     prefere peixe|    já comprou|         0|        15|\n",
            "|        10995|          1988|cursando_mestrado|    casado(a)|15716.0|          1|              0|     2012-12-11|                     8|        16|         5|       30|        8|         7|               26|                 3|                 3|                   0|                  4|                     8|           nao|           nao|           nao|           nao|           nao|       sim|     prefere carne|    já comprou|         1|        16|\n",
            "|         3559|          1988|cursando_mestrado|    casado(a)|16248.0|          1|              0|     2014-10-05|                    77|        12|        11|       10|        3|        12|                9|                 3|                 2|                   1|                  3|                     6|           nao|           nao|           nao|           nao|           nao|       nao|     prefere carne|    já comprou|         1|        17|\n",
            "|         7235|          1975|cursando_mestrado|    casado(a)|17003.0|          1|              0|     2013-09-12|                    37|         2|         5|       12|        4|         8|                7|                 3|                 2|                   0|                  4|                     5|           nao|           nao|           nao|           nao|           nao|       nao|     prefere carne|    já comprou|         1|        18|\n",
            "|         3270|          1978|cursando_mestrado|uniao_estavel|17117.0|          1|              0|     2013-01-17|                    96|        12|        23|       38|       30|        18|                7|                 4|                 3|                   1|                  3|                     9|           nao|           nao|           nao|           nao|           nao|       nao|     prefere carne|    já comprou|         1|        19|\n",
            "|         3102|          1981|cursando_mestrado|uniao_estavel|19414.0|          1|              0|     2013-10-16|                    32|         2|         3|       12|        3|         5|                7|                 1|                 1|                   0|                  3|                     8|           nao|           nao|           nao|           nao|           nao|       nao|     prefere carne|    já comprou|         1|        20|\n",
            "+-------------+--------------+-----------------+-------------+-------+-----------+---------------+---------------+----------------------+----------+----------+---------+---------+----------+-----------------+------------------+------------------+--------------------+-------------------+----------------------+--------------+--------------+--------------+--------------+--------------+----------+------------------+--------------+----------+----------+\n",
            "only showing top 20 rows\n",
            "\n"
          ]
        }
      ]
    },
    {
      "cell_type": "markdown",
      "metadata": {
        "id": "Dqrxh8jczuSx"
      },
      "source": [
        "Rank da coluna particionada "
      ]
    },
    {
      "cell_type": "code",
      "metadata": {
        "id": "_e82xDNYy-pa",
        "colab": {
          "base_uri": "https://localhost:8080/"
        },
        "outputId": "a38aef14-329b-424d-bcac-d104b1b3da0c"
      },
      "source": [
        "df2.withColumn(\"rank\", F.rank().over(w0)).show()\n"
      ],
      "execution_count": null,
      "outputs": [
        {
          "output_type": "stream",
          "name": "stdout",
          "text": [
            "+-------------+--------------+-----------------+-------------+-------+-----------+---------------+---------------+----------------------+----------+----------+---------+---------+----------+-----------------+------------------+------------------+--------------------+-------------------+----------------------+--------------+--------------+--------------+--------------+--------------+----------+------------------+--------------+----------+----+\n",
            "|identificacao|ano_nascimento|         educacao| estado_civil|  renda|qtd_crianca|qtd_adolescente|primeira_compra|dias_desde_ult_compras|qtd_vinhos|qtd_frutas|qtd_carne|qtd_peixe|guloseimas|qtd_produtos_gold|qtd_ofertas_compra|qtd_compras_online|qtd_compras_catalogo|qtd_compras_na_loja|qtd_visitas_online_mes|oferta_aceita1|oferta_aceita2|oferta_aceita3|oferta_aceita4|oferta_aceita5|reclamacao|proteina_preferida|comprou_online|qtd_filhos|rank|\n",
            "+-------------+--------------+-----------------+-------------+-------+-----------+---------------+---------------+----------------------+----------+----------+---------+---------+----------+-----------------+------------------+------------------+--------------------+-------------------+----------------------+--------------+--------------+--------------+--------------+--------------+----------+------------------+--------------+----------+----+\n",
            "|        10629|          1973|cursando_mestrado|    casado(a)|   null|          1|              0|     2012-09-14|                    25|        25|         3|       43|       17|         4|               17|                 3|                 3|                   0|                  3|                     8|           nao|           nao|           nao|           nao|           nao|       nao|     prefere carne|    já comprou|         1|   1|\n",
            "|         4345|          1964|cursando_mestrado|     solteiro|   null|          1|              1|     2014-12-01|                    49|         5|         1|        9|        2|         0|                4|                 1|                 1|                   0|                  2|                     7|           nao|           nao|           nao|           nao|           nao|       nao|     prefere carne|    já comprou|         2|   1|\n",
            "|         8720|          1978|cursando_mestrado|uniao_estavel|   null|          0|              0|     2012-12-08|                    53|        32|         2|     1607|       12|         4|               22|                 0|                 0|                   0|                  1|                     0|           nao|           sim|           nao|           nao|           nao|       nao|     prefere carne|   não comprou|         0|   1|\n",
            "|         9909|          1996|cursando_mestrado|    casado(a)| 7500.0|          0|              0|     2012-09-11|                    24|         3|        18|       14|       15|        22|               50|                 3|                 3|                   1|                  3|                     9|           nao|           nao|           nao|           nao|           nao|       nao|     prefere peixe|    já comprou|         0|   4|\n",
            "|          456|          1986|cursando_mestrado|    casado(a)| 7500.0|          1|              0|     2013-07-02|                    96|         1|        11|        5|        4|         6|                9|                 2|                 2|                   0|                  3|                     8|           nao|           nao|           nao|           nao|           nao|       nao|     prefere carne|    já comprou|         1|   4|\n",
            "|        10001|          1985|cursando_mestrado|uniao_estavel| 7500.0|          1|              0|     2012-01-08|                    98|         5|        17|       17|       13|        14|               34|                 4|                 2|                   1|                  3|                     9|           nao|           nao|           nao|           nao|           nao|       nao|     prefere carne|    já comprou|         1|   4|\n",
            "|        10659|          1979|cursando_mestrado|uniao_estavel| 7500.0|          1|              0|     2013-07-05|                     7|         2|         8|       11|        3|         8|               21|                 4|                 3|                   2|                  2|                     7|           nao|           nao|           nao|           nao|           nao|       nao|     prefere carne|    já comprou|         1|   4|\n",
            "|         5987|          1989|cursando_mestrado|uniao_estavel|10404.0|          1|              0|     2014-04-05|                    52|         2|         2|       11|       10|         6|               12|                 2|                 1|                   0|                  4|                     5|           nao|           nao|           nao|           nao|           nao|       nao|     prefere carne|    já comprou|         1|   8|\n",
            "|        10241|          1975|cursando_mestrado|divorciado(a)|11448.0|          0|              0|     2013-12-15|                    16|         0|         0|        0|        6|         2|                6|                 1|                 1|                   0|                  2|                     6|           nao|           nao|           nao|           nao|           nao|       nao|     prefere peixe|    já comprou|         0|   9|\n",
            "|         1773|          1978|cursando_mestrado|    casado(a)|12393.0|          0|              0|     2012-04-12|                    38|         5|         6|       15|       11|         7|               13|                 1|                 2|                   0|                  3|                     9|           nao|           nao|           nao|           nao|           nao|       nao|     prefere carne|    já comprou|         0|  10|\n",
            "|         8812|          1979|cursando_mestrado|divorciado(a)|13533.0|          1|              0|     2013-10-03|                    45|        12|         3|        8|        8|         0|               17|                 2|                 2|                   0|                  3|                     7|           nao|           nao|           nao|           nao|           nao|       nao|     prefere peixe|    já comprou|         1|  11|\n",
            "|         8213|          1980|cursando_mestrado|uniao_estavel|14515.0|          1|              0|     2012-09-11|                    71|         6|         4|        9|        6|        36|               35|                 4|                 2|                   2|                  3|                     7|           nao|           nao|           nao|           nao|           nao|       nao|     prefere carne|    já comprou|         1|  12|\n",
            "|         1241|          1984|cursando_mestrado|    casado(a)|14796.0|          1|              0|     2012-09-17|                     1|        13|         3|        8|        7|         4|               16|                 2|                 1|                   0|                  3|                     9|           nao|           nao|           nao|           nao|           nao|       nao|     prefere carne|    já comprou|         1|  13|\n",
            "|         8420|          1970|cursando_mestrado|    casado(a)|15315.0|          0|              0|     2013-03-08|                    27|         7|         4|       13|       15|         8|               17|                 2|                 2|                   0|                  4|                     5|           nao|           nao|           nao|           nao|           nao|       nao|     prefere peixe|    já comprou|         0|  14|\n",
            "|        10065|          1970|cursando_mestrado|    casado(a)|15315.0|          0|              0|     2013-03-08|                    27|         7|         4|       13|       15|         8|               17|                 2|                 2|                   0|                  4|                     5|           nao|           nao|           nao|           nao|           nao|       nao|     prefere peixe|    já comprou|         0|  14|\n",
            "|        10995|          1988|cursando_mestrado|    casado(a)|15716.0|          1|              0|     2012-12-11|                     8|        16|         5|       30|        8|         7|               26|                 3|                 3|                   0|                  4|                     8|           nao|           nao|           nao|           nao|           nao|       sim|     prefere carne|    já comprou|         1|  16|\n",
            "|         3559|          1988|cursando_mestrado|    casado(a)|16248.0|          1|              0|     2014-10-05|                    77|        12|        11|       10|        3|        12|                9|                 3|                 2|                   1|                  3|                     6|           nao|           nao|           nao|           nao|           nao|       nao|     prefere carne|    já comprou|         1|  17|\n",
            "|         7235|          1975|cursando_mestrado|    casado(a)|17003.0|          1|              0|     2013-09-12|                    37|         2|         5|       12|        4|         8|                7|                 3|                 2|                   0|                  4|                     5|           nao|           nao|           nao|           nao|           nao|       nao|     prefere carne|    já comprou|         1|  18|\n",
            "|         3270|          1978|cursando_mestrado|uniao_estavel|17117.0|          1|              0|     2013-01-17|                    96|        12|        23|       38|       30|        18|                7|                 4|                 3|                   1|                  3|                     9|           nao|           nao|           nao|           nao|           nao|       nao|     prefere carne|    já comprou|         1|  19|\n",
            "|         3102|          1981|cursando_mestrado|uniao_estavel|19414.0|          1|              0|     2013-10-16|                    32|         2|         3|       12|        3|         5|                7|                 1|                 1|                   0|                  3|                     8|           nao|           nao|           nao|           nao|           nao|       nao|     prefere carne|    já comprou|         1|  20|\n",
            "+-------------+--------------+-----------------+-------------+-------+-----------+---------------+---------------+----------------------+----------+----------+---------+---------+----------+-----------------+------------------+------------------+--------------------+-------------------+----------------------+--------------+--------------+--------------+--------------+--------------+----------+------------------+--------------+----------+----+\n",
            "only showing top 20 rows\n",
            "\n"
          ]
        }
      ]
    },
    {
      "cell_type": "code",
      "metadata": {
        "id": "9SDuHLQB0YeU"
      },
      "source": [
        "df2.write.format(\"com.databricks.spark.csv\").option(\"header\", \"true\").option(\"inferschema\", \"true\")\\\n",
        "    .option(\"delimiter\", \",\").save(\"/content/drive/MyDrive/SoulCode/MiniProjeto/df_marketing_pySpark\")"
      ],
      "execution_count": null,
      "outputs": []
    }
  ]
}