{
  "nbformat": 4,
  "nbformat_minor": 0,
  "metadata": {
    "colab": {
      "name": "MiniProjetoSQL.ipynb",
      "provenance": [],
      "mount_file_id": "1liq9Qss1jXsYKmInGWs-CODpH_p5_ZZD",
      "authorship_tag": "ABX9TyPTTvG0wr7nDz4ocUCtV84R",
      "include_colab_link": true
    },
    "kernelspec": {
      "name": "python3",
      "display_name": "Python 3"
    },
    "language_info": {
      "name": "python"
    }
  },
  "cells": [
    {
      "cell_type": "markdown",
      "metadata": {
        "id": "view-in-github",
        "colab_type": "text"
      },
      "source": [
        "<a href=\"https://colab.research.google.com/github/ewertonsilvag/mini_projeto_final_SoulCode/blob/main/Insights_SparkSQL.ipynb\" target=\"_parent\"><img src=\"https://colab.research.google.com/assets/colab-badge.svg\" alt=\"Open In Colab\"/></a>"
      ]
    },
    {
      "cell_type": "markdown",
      "metadata": {
        "id": "X_CtprL_6kbt"
      },
      "source": [
        "#INSTALANDO O PYSPARK\n"
      ]
    },
    {
      "cell_type": "code",
      "metadata": {
        "id": "wn2bX6cx0Wnq"
      },
      "source": [
        "!pip install pyspark"
      ],
      "execution_count": null,
      "outputs": []
    },
    {
      "cell_type": "markdown",
      "metadata": {
        "id": "_WzB_fjy6mm5"
      },
      "source": [
        "IMPORTANDO BIBLIOTECAS"
      ]
    },
    {
      "cell_type": "code",
      "metadata": {
        "id": "8uueAoy803AU"
      },
      "source": [
        "from pyspark.sql import SparkSession\n",
        "import pyspark.sql.functions as F"
      ],
      "execution_count": null,
      "outputs": []
    },
    {
      "cell_type": "markdown",
      "metadata": {
        "id": "0Xlr6i3l6pw4"
      },
      "source": [
        "CRIANDO UMA CONEXAO COM O SPARK"
      ]
    },
    {
      "cell_type": "code",
      "metadata": {
        "id": "6DFSM4p83Rj7"
      },
      "source": [
        "spark = (SparkSession.builder\\\n",
        "        .master(\"local\")\\\n",
        "        .appName(\"mini-projeto\")\\\n",
        "        .config(\"spark.ui.port\", \"4050\")\\\n",
        "        .getOrCreate())"
      ],
      "execution_count": null,
      "outputs": []
    },
    {
      "cell_type": "markdown",
      "metadata": {
        "id": "8K3eXnXe6txo"
      },
      "source": [
        "Importando e configurando o database"
      ]
    },
    {
      "cell_type": "code",
      "metadata": {
        "id": "UpPI1Ipq3Z58"
      },
      "source": [
        "df = (spark\n",
        "      .read\n",
        "      .format(\"csv\")\n",
        "      .option(\"header\", \"true\")\n",
        "      .option(\"inferschema\", \"true\")\n",
        "      .option(\"delimiter\", \",\")\n",
        "      .load(\"/content/drive/MyDrive/SoulCode/MiniProjeto/df_marketing_pySpark\")\n",
        "      .createOrReplaceTempView(\"marketing\"))"
      ],
      "execution_count": null,
      "outputs": []
    },
    {
      "cell_type": "markdown",
      "metadata": {
        "id": "w84OCTtj6xWV"
      },
      "source": [
        "Descrevendo o data frame"
      ]
    },
    {
      "cell_type": "code",
      "metadata": {
        "id": "H2RVEXDD31-p",
        "colab": {
          "base_uri": "https://localhost:8080/"
        },
        "outputId": "b4f55afa-8e32-4002-d855-eba3ec71230f"
      },
      "source": [
        "spark.sql('''\n",
        "DESCRIBE marketing\n",
        "''').show()"
      ],
      "execution_count": null,
      "outputs": [
        {
          "output_type": "stream",
          "name": "stdout",
          "text": [
            "+--------------------+---------+-------+\n",
            "|            col_name|data_type|comment|\n",
            "+--------------------+---------+-------+\n",
            "|       identificacao|      int|   null|\n",
            "|      ano_nascimento|      int|   null|\n",
            "|            educacao|   string|   null|\n",
            "|        estado_civil|   string|   null|\n",
            "|               renda|   double|   null|\n",
            "|         qtd_crianca|      int|   null|\n",
            "|     qtd_adolescente|      int|   null|\n",
            "|     primeira_compra|   string|   null|\n",
            "|dias_desde_ult_co...|      int|   null|\n",
            "|          qtd_vinhos|      int|   null|\n",
            "|          qtd_frutas|      int|   null|\n",
            "|           qtd_carne|      int|   null|\n",
            "|           qtd_peixe|      int|   null|\n",
            "|          guloseimas|      int|   null|\n",
            "|   qtd_produtos_gold|      int|   null|\n",
            "|  qtd_ofertas_compra|      int|   null|\n",
            "|  qtd_compras_online|      int|   null|\n",
            "|qtd_compras_catalogo|      int|   null|\n",
            "| qtd_compras_na_loja|      int|   null|\n",
            "|qtd_visitas_onlin...|      int|   null|\n",
            "+--------------------+---------+-------+\n",
            "only showing top 20 rows\n",
            "\n"
          ]
        }
      ]
    },
    {
      "cell_type": "markdown",
      "metadata": {
        "id": "NXfZKBUI7ZpK"
      },
      "source": [
        "Mostrando todas as colunas do data frame"
      ]
    },
    {
      "cell_type": "code",
      "metadata": {
        "id": "K-372dxo4Fks",
        "colab": {
          "base_uri": "https://localhost:8080/"
        },
        "outputId": "7a0e3223-eb56-4276-c14e-d4a3399bb125"
      },
      "source": [
        "spark.sql('''SELECT * FROM marketing''').show()"
      ],
      "execution_count": null,
      "outputs": [
        {
          "output_type": "stream",
          "name": "stdout",
          "text": [
            "+-------------+--------------+------------------+-------------+-------+-----------+---------------+---------------+----------------------+----------+----------+---------+---------+----------+-----------------+------------------+------------------+--------------------+-------------------+----------------------+--------------+--------------+--------------+--------------+--------------+----------+------------------+--------------+----------+\n",
            "|identificacao|ano_nascimento|          educacao| estado_civil|  renda|qtd_crianca|qtd_adolescente|primeira_compra|dias_desde_ult_compras|qtd_vinhos|qtd_frutas|qtd_carne|qtd_peixe|guloseimas|qtd_produtos_gold|qtd_ofertas_compra|qtd_compras_online|qtd_compras_catalogo|qtd_compras_na_loja|qtd_visitas_online_mes|oferta_aceita1|oferta_aceita2|oferta_aceita3|oferta_aceita4|oferta_aceita5|reclamacao|proteina_preferida|comprou_online|qtd_filhos|\n",
            "+-------------+--------------+------------------+-------------+-------+-----------+---------------+---------------+----------------------+----------+----------+---------+---------+----------+-----------------+------------------+------------------+--------------------+-------------------+----------------------+--------------+--------------+--------------+--------------+--------------+----------+------------------+--------------+----------+\n",
            "|         5524|          1957|         graduacao|     solteiro|58138.0|          0|              0|     2012-04-09|                    58|       635|        88|      546|      172|        88|               88|                 3|                 8|                  10|                  4|                     7|           nao|           nao|           nao|           nao|           nao|       nao|     prefere carne|    já comprou|         0|\n",
            "|         2174|          1954|         graduacao|     solteiro|46344.0|          1|              1|     2014-08-03|                    38|        11|         1|        6|        2|         1|                6|                 2|                 1|                   1|                  2|                     5|           nao|           nao|           nao|           nao|           nao|       nao|     prefere carne|    já comprou|         2|\n",
            "|         4141|          1965|         graduacao|uniao_estavel|71613.0|          0|              0|     2013-08-21|                    26|       426|        49|      127|      111|        21|               42|                 1|                 8|                   2|                 10|                     4|           nao|           nao|           nao|           nao|           nao|       nao|     prefere carne|    já comprou|         0|\n",
            "|         6182|          1984|         graduacao|uniao_estavel|26646.0|          1|              0|     2014-10-02|                    26|        11|         4|       20|       10|         3|                5|                 2|                 2|                   0|                  4|                     6|           nao|           nao|           nao|           nao|           nao|       nao|     prefere carne|    já comprou|         1|\n",
            "|         5324|          1981|         doutorado|    casado(a)|58293.0|          1|              0|     2014-01-19|                    94|       173|        43|      118|       46|        27|               15|                 5|                 5|                   3|                  6|                     5|           nao|           nao|           nao|           nao|           nao|       nao|     prefere carne|    já comprou|         1|\n",
            "|         7446|          1967|            mestre|uniao_estavel|62513.0|          0|              1|     2013-09-09|                    16|       520|        42|       98|        0|        42|               14|                 2|                 6|                   4|                 10|                     6|           nao|           nao|           nao|           nao|           nao|       nao|     prefere carne|    já comprou|         1|\n",
            "|          965|          1971|         graduacao|divorciado(a)|55635.0|          0|              1|     2012-11-13|                    34|       235|        65|      164|       50|        49|               27|                 4|                 7|                   3|                  7|                     6|           nao|           nao|           nao|           nao|           nao|       nao|     prefere carne|    já comprou|         1|\n",
            "|         6177|          1985|         doutorado|    casado(a)|33454.0|          1|              0|     2013-08-05|                    32|        76|        10|       56|        3|         1|               23|                 2|                 4|                   0|                  4|                     8|           nao|           nao|           nao|           nao|           nao|       nao|     prefere carne|    já comprou|         1|\n",
            "|         4855|          1974|         doutorado|uniao_estavel|30351.0|          1|              0|     2013-06-06|                    19|        14|         0|       24|        3|         3|                2|                 1|                 3|                   0|                  2|                     9|           nao|           nao|           nao|           nao|           nao|       nao|     prefere carne|    já comprou|         1|\n",
            "|         5899|          1950|         doutorado|uniao_estavel| 5648.0|          1|              1|     2014-03-13|                    68|        28|         0|        6|        1|         1|               13|                 1|                 1|                   0|                  0|                    20|           sim|           nao|           nao|           nao|           nao|       nao|     prefere carne|    já comprou|         2|\n",
            "|         1994|          1983|         graduacao|    casado(a)|   null|          1|              0|     2013-11-15|                    11|         5|         5|        6|        0|         2|                1|                 1|                 1|                   0|                  2|                     7|           nao|           nao|           nao|           nao|           nao|       nao|     prefere carne|    já comprou|         1|\n",
            "|          387|          1976|ensino_fundamental|    casado(a)| 7500.0|          0|              0|     2012-11-13|                    59|         6|        16|       11|       11|         1|               16|                 1|                 2|                   0|                  3|                     8|           nao|           nao|           nao|           nao|           nao|       nao|     prefere peixe|    já comprou|         0|\n",
            "|         2125|          1959|         graduacao|divorciado(a)|63033.0|          0|              0|     2013-11-15|                    82|       194|        61|      480|      225|       112|               30|                 1|                 3|                   4|                  8|                     2|           nao|           nao|           nao|           nao|           nao|       nao|     prefere carne|    já comprou|         0|\n",
            "|         8180|          1952|            mestre|divorciado(a)|59354.0|          1|              1|     2013-11-15|                    53|       233|         2|       53|        3|         5|               14|                 3|                 6|                   1|                  5|                     6|           nao|           nao|           nao|           nao|           nao|       nao|     prefere carne|    já comprou|         2|\n",
            "|         2569|          1987|         graduacao|    casado(a)|17323.0|          0|              0|     2012-10-10|                    38|         3|        14|       17|        6|         1|                5|                 1|                 1|                   0|                  3|                     8|           nao|           nao|           nao|           nao|           nao|       nao|     prefere carne|    já comprou|         0|\n",
            "|         2114|          1946|         doutorado|     solteiro|82800.0|          0|              0|     2012-11-24|                    23|      1006|        22|      115|       59|        68|               45|                 1|                 7|                   6|                 12|                     3|           nao|           nao|           sim|           sim|           nao|       nao|     prefere carne|    já comprou|         0|\n",
            "|         9736|          1980|         graduacao|    casado(a)|41850.0|          1|              1|     2012-12-24|                    51|        53|         5|       19|        2|        13|                4|                 3|                 3|                   0|                  3|                     8|           nao|           nao|           nao|           nao|           nao|       nao|     prefere carne|    já comprou|         2|\n",
            "|         4939|          1946|         graduacao|uniao_estavel|37760.0|          0|              0|     2012-08-31|                    20|        84|         5|       38|      150|        12|               28|                 2|                 4|                   1|                  6|                     7|           nao|           nao|           nao|           nao|           nao|       nao|     prefere peixe|    já comprou|         0|\n",
            "|         6565|          1949|            mestre|    casado(a)|76995.0|          0|              1|     2013-03-28|                    91|      1012|        80|      498|        0|        16|              176|                 2|                11|                   4|                  9|                     5|           nao|           nao|           nao|           sim|           nao|       nao|     prefere carne|    já comprou|         1|\n",
            "|         2278|          1985| cursando_mestrado|     solteiro|33812.0|          1|              0|     2012-03-11|                    86|         4|        17|       19|       30|        24|               39|                 2|                 2|                   1|                  3|                     6|           nao|           nao|           nao|           nao|           nao|       nao|     prefere peixe|    já comprou|         1|\n",
            "+-------------+--------------+------------------+-------------+-------+-----------+---------------+---------------+----------------------+----------+----------+---------+---------+----------+-----------------+------------------+------------------+--------------------+-------------------+----------------------+--------------+--------------+--------------+--------------+--------------+----------+------------------+--------------+----------+\n",
            "only showing top 20 rows\n",
            "\n"
          ]
        }
      ]
    },
    {
      "cell_type": "markdown",
      "metadata": {
        "id": "G3IJRyat7foA"
      },
      "source": [
        "Contando de forma distinta a quantidade de clientes em relação ao estado civil"
      ]
    },
    {
      "cell_type": "code",
      "metadata": {
        "id": "qAbL0s-i4Hw8",
        "colab": {
          "base_uri": "https://localhost:8080/"
        },
        "outputId": "8069b3f9-8356-4fa9-c105-157d85a1edbb"
      },
      "source": [
        "#Seria interessante o mercado saber que tipos de consumidores eles estão atendendo para\n",
        "#poderem direcionar melhor suas promoções e serviços.\n",
        "\n",
        "\n",
        "spark.sql('''SELECT DISTINCT estado_civil, COUNT(estado_civil) AS QTDE\n",
        "FROM marketing\n",
        "GROUP BY estado_civil''').show()"
      ],
      "execution_count": null,
      "outputs": [
        {
          "output_type": "stream",
          "name": "stdout",
          "text": [
            "+-------------+----+\n",
            "| estado_civil|QTDE|\n",
            "+-------------+----+\n",
            "|     solteiro| 479|\n",
            "|uniao_estavel| 579|\n",
            "|     viúvo(a)|  77|\n",
            "|divorciado(a)| 231|\n",
            "|    casado(a)| 864|\n",
            "|         null|   0|\n",
            "+-------------+----+\n",
            "\n"
          ]
        }
      ]
    },
    {
      "cell_type": "markdown",
      "metadata": {
        "id": "YEjwuMjM7tmJ"
      },
      "source": [
        "Selecionando e rankeando os clientes que mais compraram vinho acima de 1480 unidades"
      ]
    },
    {
      "cell_type": "code",
      "metadata": {
        "id": "2vMZkHWP4r8U",
        "colab": {
          "base_uri": "https://localhost:8080/"
        },
        "outputId": "4e77e88b-b102-4703-bfb0-5980cd2f202d"
      },
      "source": [
        "#Procurei relacionar o estado civil com o top 3 de consumidores de vinho\n",
        "\n",
        "spark.sql(\"\"\"\n",
        "  SELECT identificacao, estado_civil, qtd_vinhos\n",
        "  FROM marketing \n",
        "  WHERE qtd_vinhos > 1480\n",
        "  ORDER BY qtd_vinhos DESC;\n",
        "\"\"\").show(3)"
      ],
      "execution_count": null,
      "outputs": [
        {
          "output_type": "stream",
          "name": "stdout",
          "text": [
            "+-------------+-------------+----------+\n",
            "|identificacao| estado_civil|qtd_vinhos|\n",
            "+-------------+-------------+----------+\n",
            "|          737|    casado(a)|      1493|\n",
            "|         3174|uniao_estavel|      1492|\n",
            "|         5536|uniao_estavel|      1492|\n",
            "+-------------+-------------+----------+\n",
            "only showing top 3 rows\n",
            "\n"
          ]
        }
      ]
    },
    {
      "cell_type": "markdown",
      "metadata": {
        "id": "OyMPqbkm9j7h"
      },
      "source": [
        "Selecionando os clientes com doutorado e que são casados"
      ]
    },
    {
      "cell_type": "code",
      "metadata": {
        "id": "Gs7CCzwM8ZH4",
        "colab": {
          "base_uri": "https://localhost:8080/"
        },
        "outputId": "b1603d11-5c78-48d9-f2c5-79e259a26e07"
      },
      "source": [
        "#Aqui mais uma vez o marketing poderia se beneficiar investindo em campanhas\n",
        "#que atendessem melhor as expectativas desses clientes\n",
        "spark.sql('''SELECT ano_nascimento, educacao, estado_civil,renda\n",
        "FROM marketing\n",
        "WHERE estado_civil = 'casado(a)' AND educacao = 'doutorado'\n",
        "''').show()"
      ],
      "execution_count": null,
      "outputs": [
        {
          "output_type": "stream",
          "name": "stdout",
          "text": [
            "+--------------+---------+------------+--------+\n",
            "|ano_nascimento| educacao|estado_civil|   renda|\n",
            "+--------------+---------+------------+--------+\n",
            "|          1981|doutorado|   casado(a)| 58293.0|\n",
            "|          1985|doutorado|   casado(a)| 33454.0|\n",
            "|          1949|doutorado|   casado(a)| 58607.0|\n",
            "|          1954|doutorado|   casado(a)| 65324.0|\n",
            "|          1965|doutorado|   casado(a)| 84618.0|\n",
            "|          1970|doutorado|   casado(a)| 67353.0|\n",
            "|          1954|doutorado|   casado(a)| 72550.0|\n",
            "|          1968|doutorado|   casado(a)| 55954.0|\n",
            "|          1975|doutorado|   casado(a)| 60631.0|\n",
            "|          1957|doutorado|   casado(a)|    null|\n",
            "|          1970|doutorado|   casado(a)| 23626.0|\n",
            "|          1983|doutorado|   casado(a)| 50150.0|\n",
            "|          1945|doutorado|   casado(a)| 65846.0|\n",
            "|          1980|doutorado|   casado(a)| 43974.0|\n",
            "|          1961|doutorado|   casado(a)|    null|\n",
            "|          1964|doutorado|   casado(a)| 41551.0|\n",
            "|          1959|doutorado|   casado(a)| 33762.0|\n",
            "|          1945|doutorado|   casado(a)| 70356.0|\n",
            "|          1973|doutorado|   casado(a)|157243.0|\n",
            "|          1975|doutorado|   casado(a)| 80427.0|\n",
            "+--------------+---------+------------+--------+\n",
            "only showing top 20 rows\n",
            "\n"
          ]
        }
      ]
    },
    {
      "cell_type": "markdown",
      "metadata": {
        "id": "moerq-t_YWE1"
      },
      "source": [
        "Selecionando as colunas ano_nascimento, educacao, qtd_crianca, qtd_adolescente, guloseimas onde o ano de nascimento dos clientes é maior que 1990 e ordenando pelo consumo de guloseimas"
      ]
    },
    {
      "cell_type": "code",
      "metadata": {
        "id": "qP5kKmnl-Yj8",
        "colab": {
          "base_uri": "https://localhost:8080/"
        },
        "outputId": "a52424f3-ecbd-4c21-c896-d17b65779ad0"
      },
      "source": [
        "#Gostaria de saber nessa Query se existia relação das compras de doces\n",
        "#e a existência de crianças ou adolescentes nas casas dos millenials\n",
        "\n",
        "spark.sql(\"\"\"\n",
        "  SELECT ano_nascimento, educacao, qtd_crianca, qtd_adolescente, guloseimas\n",
        "  FROM marketing \n",
        "  WHERE ano_nascimento > 1981\n",
        "  ORDER BY guloseimas DESC;\n",
        "\"\"\").show()"
      ],
      "execution_count": null,
      "outputs": [
        {
          "output_type": "stream",
          "name": "stdout",
          "text": [
            "+--------------+-----------------+-----------+---------------+----------+\n",
            "|ano_nascimento|         educacao|qtd_crianca|qtd_adolescente|guloseimas|\n",
            "+--------------+-----------------+-----------+---------------+----------+\n",
            "|          1986|        graduacao|          1|              0|       263|\n",
            "|          1986|        graduacao|          0|              0|       197|\n",
            "|          1984|        graduacao|          0|              0|       192|\n",
            "|          1982|        graduacao|          0|              0|       185|\n",
            "|          1987|        doutorado|          0|              0|       176|\n",
            "|          1992|        graduacao|          0|              0|       169|\n",
            "|          1986|        doutorado|          0|              0|       161|\n",
            "|          1983|cursando_mestrado|          0|              0|       160|\n",
            "|          1986|        graduacao|          1|              0|       149|\n",
            "|          1988|        graduacao|          0|              0|       148|\n",
            "|          1985|        graduacao|          0|              0|       147|\n",
            "|          1991|           mestre|          0|              0|       144|\n",
            "|          1991|           mestre|          0|              0|       144|\n",
            "|          1984|        doutorado|          0|              0|       143|\n",
            "|          1984|        graduacao|          0|              0|       141|\n",
            "|          1988|        graduacao|          0|              0|       137|\n",
            "|          1988|        graduacao|          0|              0|       137|\n",
            "|          1987|        graduacao|          0|              0|       133|\n",
            "|          1986|        doutorado|          0|              0|       130|\n",
            "|          1988|        graduacao|          0|              0|       118|\n",
            "+--------------+-----------------+-----------+---------------+----------+\n",
            "only showing top 20 rows\n",
            "\n"
          ]
        }
      ]
    },
    {
      "cell_type": "markdown",
      "metadata": {
        "id": "Vi3w61NaZgol"
      },
      "source": [
        "Selecionando identificacao, educacao, qtd_filhos, qtd_compras_online ordenando de forma decrescente a quantidade de compras online"
      ]
    },
    {
      "cell_type": "code",
      "metadata": {
        "id": "sAbbiWAb_2SB",
        "colab": {
          "base_uri": "https://localhost:8080/"
        },
        "outputId": "8842f417-ab23-434d-ff65-f16dc8273574"
      },
      "source": [
        "#Nessa query gostaria de saber se as compras online tinham alguma relação com\n",
        "#a qtd de filhos e a escolaridade dos clientes\n",
        "spark.sql('''\n",
        "SELECT identificacao, educacao, qtd_filhos, qtd_compras_online\n",
        "FROM marketing\n",
        "ORDER BY qtd_compras_online DESC;\n",
        "''').show()"
      ],
      "execution_count": null,
      "outputs": [
        {
          "output_type": "stream",
          "name": "stdout",
          "text": [
            "+-------------+-----------------+----------+------------------+\n",
            "|identificacao|         educacao|qtd_filhos|qtd_compras_online|\n",
            "+-------------+-----------------+----------+------------------+\n",
            "|         5255|        graduacao|         1|                27|\n",
            "|         4619|        doutorado|         0|                27|\n",
            "|        10311|        graduacao|         1|                25|\n",
            "|         6237|        doutorado|         2|                23|\n",
            "|         7030|        doutorado|         1|                11|\n",
            "|         4910|        graduacao|         0|                11|\n",
            "|          380|        graduacao|         1|                11|\n",
            "|         8727|        graduacao|         1|                11|\n",
            "|        10159|        graduacao|         1|                11|\n",
            "|         4990|        graduacao|         0|                11|\n",
            "|         4299|        graduacao|         1|                11|\n",
            "|         1911|        graduacao|         0|                11|\n",
            "|          796|cursando_mestrado|         1|                11|\n",
            "|         8931|        graduacao|         1|                11|\n",
            "|         8717|        doutorado|         1|                11|\n",
            "|          454|        graduacao|         1|                11|\n",
            "|        11101|        graduacao|         0|                11|\n",
            "|         7381|        graduacao|         0|                11|\n",
            "|         1204|        doutorado|         1|                11|\n",
            "|          433|           mestre|         2|                11|\n",
            "+-------------+-----------------+----------+------------------+\n",
            "only showing top 20 rows\n",
            "\n"
          ]
        }
      ]
    },
    {
      "cell_type": "markdown",
      "metadata": {
        "id": "soVue7TxaxTW"
      },
      "source": [
        "Selecionando a identificacao, educacao, qtd_filhos e qtd_compras_na_loja ordenando de forma decrescente a quantidade de compras na loja"
      ]
    },
    {
      "cell_type": "code",
      "metadata": {
        "id": "7fvNBAciCtG8",
        "colab": {
          "base_uri": "https://localhost:8080/"
        },
        "outputId": "f416ef96-ca76-4d1f-ac57-ae78359ee769"
      },
      "source": [
        "#Nessa query gostaria de saber se as compras na loja tinham alguma relação com\n",
        "#a qtd de filhos e a escolaridade dos clientes\n",
        "spark.sql('''\n",
        "SELECT identificacao, educacao, qtd_filhos, qtd_compras_na_loja\n",
        "FROM marketing\n",
        "ORDER BY qtd_compras_na_loja DESC;\n",
        "''').show()"
      ],
      "execution_count": null,
      "outputs": [
        {
          "output_type": "stream",
          "name": "stdout",
          "text": [
            "+-------------+-----------------+----------+-------------------+\n",
            "|identificacao|         educacao|qtd_filhos|qtd_compras_na_loja|\n",
            "+-------------+-----------------+----------+-------------------+\n",
            "|        10965|        graduacao|         0|                 13|\n",
            "|         9305|cursando_mestrado|         0|                 13|\n",
            "|          466|        graduacao|         0|                 13|\n",
            "|         4114|           mestre|         0|                 13|\n",
            "|         9504|           mestre|         0|                 13|\n",
            "|         6312|        graduacao|         1|                 13|\n",
            "|         9780|           mestre|         1|                 13|\n",
            "|         1685|        doutorado|         0|                 13|\n",
            "|        10299|        doutorado|         0|                 13|\n",
            "|         2426|        doutorado|         0|                 13|\n",
            "|        10727|        doutorado|         1|                 13|\n",
            "|        10983|        graduacao|         0|                 13|\n",
            "|         3856|        graduacao|         1|                 13|\n",
            "|         1340|        graduacao|         0|                 13|\n",
            "|         4611|        graduacao|         0|                 13|\n",
            "|         2021|        graduacao|         1|                 13|\n",
            "|         3867|        doutorado|         1|                 13|\n",
            "|         4910|        graduacao|         0|                 13|\n",
            "|        10286|        graduacao|         0|                 13|\n",
            "|         7875|        graduacao|         0|                 13|\n",
            "+-------------+-----------------+----------+-------------------+\n",
            "only showing top 20 rows\n",
            "\n"
          ]
        }
      ]
    },
    {
      "cell_type": "markdown",
      "metadata": {
        "id": "Yuebb_CjbJ3G"
      },
      "source": [
        "Contando de forma distinta a quantidade de compras online de clientes de cada escolaridade destacada"
      ]
    },
    {
      "cell_type": "code",
      "metadata": {
        "colab": {
          "base_uri": "https://localhost:8080/"
        },
        "id": "DP5TICXuE5s8",
        "outputId": "ee2dbfca-d760-4112-e881-49407e156918"
      },
      "source": [
        "#Agora mais focado no E-commerce comecei a verificar especificando pelo grau de escolaridade\n",
        "#Quem fazia mais compras online\n",
        "spark.sql('''SELECT DISTINCT educacao, COUNT(qtd_compras_online) AS QTDE\n",
        "FROM marketing\n",
        "GROUP BY educacao\n",
        "''').show()"
      ],
      "execution_count": null,
      "outputs": [
        {
          "output_type": "stream",
          "name": "stdout",
          "text": [
            "+------------------+----+\n",
            "|          educacao|QTDE|\n",
            "+------------------+----+\n",
            "| cursando_mestrado| 201|\n",
            "|            mestre| 370|\n",
            "|         doutorado| 485|\n",
            "|         graduacao|1127|\n",
            "|ensino_fundamental|  54|\n",
            "+------------------+----+\n",
            "\n"
          ]
        }
      ]
    },
    {
      "cell_type": "markdown",
      "metadata": {
        "id": "Ug0yMurTcI9J"
      },
      "source": [
        "Contando de forma distinta a quantidade de compras online de clientes de cada estado civil"
      ]
    },
    {
      "cell_type": "code",
      "metadata": {
        "id": "1s7mVWMJGhen",
        "colab": {
          "base_uri": "https://localhost:8080/"
        },
        "outputId": "12ba546e-b728-4c71-fdec-bf3fc4e64c1c"
      },
      "source": [
        "#Procurei verificar a relação do estado civil dos clientes com as compras online\n",
        "# E essa query poderia ser usada em conjunto com outras pesquisa \n",
        "spark.sql('''SELECT DISTINCT estado_civil, COUNT(qtd_compras_online) AS QTDE\n",
        "FROM marketing\n",
        "GROUP BY estado_civil\n",
        "''').show()"
      ],
      "execution_count": null,
      "outputs": [
        {
          "output_type": "stream",
          "name": "stdout",
          "text": [
            "+-------------+----+\n",
            "| estado_civil|QTDE|\n",
            "+-------------+----+\n",
            "|     solteiro| 479|\n",
            "|uniao_estavel| 579|\n",
            "|     viúvo(a)|  77|\n",
            "|divorciado(a)| 231|\n",
            "|    casado(a)| 864|\n",
            "|         null|   7|\n",
            "+-------------+----+\n",
            "\n"
          ]
        }
      ]
    },
    {
      "cell_type": "markdown",
      "metadata": {
        "id": "alkwVGvAcsxL"
      },
      "source": [
        "Selecionando o nivel de escolaridade para observar a qtd de visitas online"
      ]
    },
    {
      "cell_type": "code",
      "metadata": {
        "id": "haEQmobAHUr0",
        "colab": {
          "base_uri": "https://localhost:8080/"
        },
        "outputId": "80d94b7e-7cb3-4de9-a6c1-ed3a62bd4cfa"
      },
      "source": [
        "#Intenção de verificar métricas para E-commerce com a relação da educação \n",
        "#com as visitas online. \n",
        "spark.sql('''SELECT DISTINCT educacao, COUNT (qtd_visitas_online_mes) AS QTDE\n",
        "FROM marketing\n",
        "GROUP BY educacao;\n",
        "''').show()"
      ],
      "execution_count": null,
      "outputs": [
        {
          "output_type": "stream",
          "name": "stdout",
          "text": [
            "+------------------+----+\n",
            "|          educacao|QTDE|\n",
            "+------------------+----+\n",
            "| cursando_mestrado| 201|\n",
            "|            mestre| 370|\n",
            "|         doutorado| 485|\n",
            "|         graduacao|1127|\n",
            "|ensino_fundamental|  54|\n",
            "+------------------+----+\n",
            "\n"
          ]
        }
      ]
    },
    {
      "cell_type": "markdown",
      "metadata": {
        "id": "MKAaLI-CODVE"
      },
      "source": [
        "Selecionando a quantidade de compras online de clientes com idade de 50 anos para cima,com base no ano de 2014."
      ]
    },
    {
      "cell_type": "code",
      "metadata": {
        "id": "4IJavfNEK7oU",
        "colab": {
          "base_uri": "https://localhost:8080/"
        },
        "outputId": "0601a157-bc67-485d-8efa-e8e1792045ec"
      },
      "source": [
        "#Intenção de verificar a frequência que os clientes na maior idade\n",
        "#estão fazendo compras na internet\n",
        "spark.sql(''' SELECT DISTINCT (ano_nascimento), qtd_compras_online FROM marketing\n",
        "WHERE ano_nascimento < 1974\n",
        "ORDER BY ano_nascimento ASC;\n",
        "''').show()"
      ],
      "execution_count": null,
      "outputs": [
        {
          "output_type": "stream",
          "name": "stdout",
          "text": [
            "+--------------+------------------+\n",
            "|ano_nascimento|qtd_compras_online|\n",
            "+--------------+------------------+\n",
            "|          1940|                 3|\n",
            "|          1941|                 7|\n",
            "|          1943|                 7|\n",
            "|          1943|                 9|\n",
            "|          1943|                 5|\n",
            "|          1943|                 3|\n",
            "|          1944|                 4|\n",
            "|          1944|                 3|\n",
            "|          1944|                 9|\n",
            "|          1944|                 5|\n",
            "|          1944|                 6|\n",
            "|          1944|                 7|\n",
            "|          1945|                10|\n",
            "|          1945|                 3|\n",
            "|          1945|                 8|\n",
            "|          1945|                27|\n",
            "|          1945|                 6|\n",
            "|          1946|                 4|\n",
            "|          1946|                 0|\n",
            "|          1946|                 7|\n",
            "+--------------+------------------+\n",
            "only showing top 20 rows\n",
            "\n"
          ]
        }
      ]
    },
    {
      "cell_type": "markdown",
      "metadata": {
        "id": "vOL8Fkmfe2LA"
      },
      "source": [
        "Relacionando algumas caracteristicas dos clientes com a última vez que fez compras, quantidade de compras online e as visitas online no mês"
      ]
    },
    {
      "cell_type": "code",
      "metadata": {
        "id": "J1u_HHwRTWpj",
        "colab": {
          "base_uri": "https://localhost:8080/"
        },
        "outputId": "7e0134c6-3982-4723-d85f-c40bde03b5ab"
      },
      "source": [
        "#Intenção de verificar se dependendo do estado civil ou educação, os dias que os clientes ficam sem comprar\n",
        "#Teria relação com a quantidade de compras no mês\n",
        "spark.sql('''\n",
        "SELECT identificacao, educacao, estado_civil, dias_desde_ult_compras, qtd_compras_online, qtd_visitas_online_mes\n",
        "FROM marketing\n",
        "''').show()"
      ],
      "execution_count": null,
      "outputs": [
        {
          "output_type": "stream",
          "name": "stdout",
          "text": [
            "+-------------+------------------+-------------+----------------------+------------------+----------------------+\n",
            "|identificacao|          educacao| estado_civil|dias_desde_ult_compras|qtd_compras_online|qtd_visitas_online_mes|\n",
            "+-------------+------------------+-------------+----------------------+------------------+----------------------+\n",
            "|         5524|         graduacao|     solteiro|                    58|                 8|                     7|\n",
            "|         2174|         graduacao|     solteiro|                    38|                 1|                     5|\n",
            "|         4141|         graduacao|uniao_estavel|                    26|                 8|                     4|\n",
            "|         6182|         graduacao|uniao_estavel|                    26|                 2|                     6|\n",
            "|         5324|         doutorado|    casado(a)|                    94|                 5|                     5|\n",
            "|         7446|            mestre|uniao_estavel|                    16|                 6|                     6|\n",
            "|          965|         graduacao|divorciado(a)|                    34|                 7|                     6|\n",
            "|         6177|         doutorado|    casado(a)|                    32|                 4|                     8|\n",
            "|         4855|         doutorado|uniao_estavel|                    19|                 3|                     9|\n",
            "|         5899|         doutorado|uniao_estavel|                    68|                 1|                    20|\n",
            "|         1994|         graduacao|    casado(a)|                    11|                 1|                     7|\n",
            "|          387|ensino_fundamental|    casado(a)|                    59|                 2|                     8|\n",
            "|         2125|         graduacao|divorciado(a)|                    82|                 3|                     2|\n",
            "|         8180|            mestre|divorciado(a)|                    53|                 6|                     6|\n",
            "|         2569|         graduacao|    casado(a)|                    38|                 1|                     8|\n",
            "|         2114|         doutorado|     solteiro|                    23|                 7|                     3|\n",
            "|         9736|         graduacao|    casado(a)|                    51|                 3|                     8|\n",
            "|         4939|         graduacao|uniao_estavel|                    20|                 4|                     7|\n",
            "|         6565|            mestre|    casado(a)|                    91|                11|                     5|\n",
            "|         2278| cursando_mestrado|     solteiro|                    86|                 2|                     6|\n",
            "+-------------+------------------+-------------+----------------------+------------------+----------------------+\n",
            "only showing top 20 rows\n",
            "\n"
          ]
        }
      ]
    }
  ]
}